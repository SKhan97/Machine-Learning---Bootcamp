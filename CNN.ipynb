{
  "nbformat": 4,
  "nbformat_minor": 0,
  "metadata": {
    "colab": {
      "name": "CNN.ipynb",
      "version": "0.3.2",
      "provenance": []
    },
    "kernelspec": {
      "name": "python3",
      "display_name": "Python 3"
    },
    "accelerator": "GPU"
  },
  "cells": [
    {
      "cell_type": "markdown",
      "metadata": {
        "id": "view-in-github",
        "colab_type": "text"
      },
      "source": [
        "[View in Colaboratory](https://colab.research.google.com/github/SKhan97/Machine-Learning---Bootcamp/blob/master/CNN.ipynb)"
      ]
    },
    {
      "metadata": {
        "id": "_URWRaFrFm7J",
        "colab_type": "code",
        "colab": {}
      },
      "cell_type": "code",
      "source": [
        "import torch"
      ],
      "execution_count": 0,
      "outputs": []
    },
    {
      "metadata": {
        "id": "53E-Y3axG47a",
        "colab_type": "code",
        "colab": {}
      },
      "cell_type": "code",
      "source": [
        "%matplotlib inline\n",
        "from torch.autograd import Variable\n",
        "import torchvision #Classic data sets \n",
        "from torchvision import transforms, datasets\n",
        "import torch.nn.functional as F\n",
        "import matplotlib.pyplot as plt"
      ],
      "execution_count": 0,
      "outputs": []
    },
    {
      "metadata": {
        "id": "JpI-AKvCHJJl",
        "colab_type": "code",
        "colab": {
          "base_uri": "https://localhost:8080/",
          "height": 1962
        },
        "outputId": "5100c018-23b2-43f4-b2ae-1b761728bbff"
      },
      "cell_type": "code",
      "source": [
        "training_data = datasets.MNIST(root='data/',\n",
        "                            transform = transforms.ToTensor(),\n",
        "                            train = True,\n",
        "                            download = True) \n",
        "\n",
        "test_data = datasets.MNIST(root='data/',\n",
        "                            transform = transforms.ToTensor(),\n",
        "                            train = False,\n",
        "                            download = True)\n",
        "\n",
        "print(training_data[0][0][0])\n",
        "\n",
        "plt.imshow(training_data[0][0][0],cmap = 'gray_r')\n",
        "plt.show()\n",
        "\n",
        "print('Number of training points', len(training_data))\n",
        "print('Number of testing points', len(test_data))"
      ],
      "execution_count": 3,
      "outputs": [
        {
          "output_type": "stream",
          "text": [
            "Downloading http://yann.lecun.com/exdb/mnist/train-images-idx3-ubyte.gz\n",
            "Downloading http://yann.lecun.com/exdb/mnist/train-labels-idx1-ubyte.gz\n",
            "Downloading http://yann.lecun.com/exdb/mnist/t10k-images-idx3-ubyte.gz\n",
            "Downloading http://yann.lecun.com/exdb/mnist/t10k-labels-idx1-ubyte.gz\n",
            "Processing...\n",
            "Done!\n",
            "\n",
            "\n",
            "Columns 0 to 9 \n",
            " 0.0000  0.0000  0.0000  0.0000  0.0000  0.0000  0.0000  0.0000  0.0000  0.0000\n",
            " 0.0000  0.0000  0.0000  0.0000  0.0000  0.0000  0.0000  0.0000  0.0000  0.0000\n",
            " 0.0000  0.0000  0.0000  0.0000  0.0000  0.0000  0.0000  0.0000  0.0000  0.0000\n",
            " 0.0000  0.0000  0.0000  0.0000  0.0000  0.0000  0.0000  0.0000  0.0000  0.0000\n",
            " 0.0000  0.0000  0.0000  0.0000  0.0000  0.0000  0.0000  0.0000  0.0000  0.0000\n",
            " 0.0000  0.0000  0.0000  0.0000  0.0000  0.0000  0.0000  0.0000  0.0000  0.0000\n",
            " 0.0000  0.0000  0.0000  0.0000  0.0000  0.0000  0.0000  0.0000  0.1176  0.1412\n",
            " 0.0000  0.0000  0.0000  0.0000  0.0000  0.0000  0.0000  0.1922  0.9333  0.9922\n",
            " 0.0000  0.0000  0.0000  0.0000  0.0000  0.0000  0.0000  0.0706  0.8588  0.9922\n",
            " 0.0000  0.0000  0.0000  0.0000  0.0000  0.0000  0.0000  0.0000  0.3137  0.6118\n",
            " 0.0000  0.0000  0.0000  0.0000  0.0000  0.0000  0.0000  0.0000  0.0000  0.0549\n",
            " 0.0000  0.0000  0.0000  0.0000  0.0000  0.0000  0.0000  0.0000  0.0000  0.0000\n",
            " 0.0000  0.0000  0.0000  0.0000  0.0000  0.0000  0.0000  0.0000  0.0000  0.0000\n",
            " 0.0000  0.0000  0.0000  0.0000  0.0000  0.0000  0.0000  0.0000  0.0000  0.0000\n",
            " 0.0000  0.0000  0.0000  0.0000  0.0000  0.0000  0.0000  0.0000  0.0000  0.0000\n",
            " 0.0000  0.0000  0.0000  0.0000  0.0000  0.0000  0.0000  0.0000  0.0000  0.0000\n",
            " 0.0000  0.0000  0.0000  0.0000  0.0000  0.0000  0.0000  0.0000  0.0000  0.0000\n",
            " 0.0000  0.0000  0.0000  0.0000  0.0000  0.0000  0.0000  0.0000  0.0000  0.0000\n",
            " 0.0000  0.0000  0.0000  0.0000  0.0000  0.0000  0.0000  0.0000  0.0000  0.0000\n",
            " 0.0000  0.0000  0.0000  0.0000  0.0000  0.0000  0.0000  0.0000  0.0000  0.0000\n",
            " 0.0000  0.0000  0.0000  0.0000  0.0000  0.0000  0.0000  0.0000  0.0000  0.0000\n",
            " 0.0000  0.0000  0.0000  0.0000  0.0000  0.0000  0.0000  0.0000  0.0902  0.2588\n",
            " 0.0000  0.0000  0.0000  0.0000  0.0000  0.0000  0.0706  0.6706  0.8588  0.9922\n",
            " 0.0000  0.0000  0.0000  0.0000  0.2157  0.6745  0.8863  0.9922  0.9922  0.9922\n",
            " 0.0000  0.0000  0.0000  0.0000  0.5333  0.9922  0.9922  0.9922  0.8314  0.5294\n",
            " 0.0000  0.0000  0.0000  0.0000  0.0000  0.0000  0.0000  0.0000  0.0000  0.0000\n",
            " 0.0000  0.0000  0.0000  0.0000  0.0000  0.0000  0.0000  0.0000  0.0000  0.0000\n",
            " 0.0000  0.0000  0.0000  0.0000  0.0000  0.0000  0.0000  0.0000  0.0000  0.0000\n",
            "\n",
            "Columns 10 to 19 \n",
            " 0.0000  0.0000  0.0000  0.0000  0.0000  0.0000  0.0000  0.0000  0.0000  0.0000\n",
            " 0.0000  0.0000  0.0000  0.0000  0.0000  0.0000  0.0000  0.0000  0.0000  0.0000\n",
            " 0.0000  0.0000  0.0000  0.0000  0.0000  0.0000  0.0000  0.0000  0.0000  0.0000\n",
            " 0.0000  0.0000  0.0000  0.0000  0.0000  0.0000  0.0000  0.0000  0.0000  0.0000\n",
            " 0.0000  0.0000  0.0000  0.0000  0.0000  0.0000  0.0000  0.0000  0.0000  0.0000\n",
            " 0.0000  0.0000  0.0118  0.0706  0.0706  0.0706  0.4941  0.5333  0.6863  0.1020\n",
            " 0.3686  0.6039  0.6667  0.9922  0.9922  0.9922  0.9922  0.9922  0.8824  0.6745\n",
            " 0.9922  0.9922  0.9922  0.9922  0.9922  0.9922  0.9922  0.9843  0.3647  0.3216\n",
            " 0.9922  0.9922  0.9922  0.9922  0.7765  0.7137  0.9686  0.9451  0.0000  0.0000\n",
            " 0.4196  0.9922  0.9922  0.8039  0.0431  0.0000  0.1686  0.6039  0.0000  0.0000\n",
            " 0.0039  0.6039  0.9922  0.3529  0.0000  0.0000  0.0000  0.0000  0.0000  0.0000\n",
            " 0.0000  0.5451  0.9922  0.7451  0.0078  0.0000  0.0000  0.0000  0.0000  0.0000\n",
            " 0.0000  0.0431  0.7451  0.9922  0.2745  0.0000  0.0000  0.0000  0.0000  0.0000\n",
            " 0.0000  0.0000  0.1373  0.9451  0.8824  0.6275  0.4235  0.0039  0.0000  0.0000\n",
            " 0.0000  0.0000  0.0000  0.3176  0.9412  0.9922  0.9922  0.4667  0.0980  0.0000\n",
            " 0.0000  0.0000  0.0000  0.0000  0.1765  0.7294  0.9922  0.9922  0.5882  0.1059\n",
            " 0.0000  0.0000  0.0000  0.0000  0.0000  0.0627  0.3647  0.9882  0.9922  0.7333\n",
            " 0.0000  0.0000  0.0000  0.0000  0.0000  0.0000  0.0000  0.9765  0.9922  0.9765\n",
            " 0.0000  0.0000  0.0000  0.0000  0.1804  0.5098  0.7176  0.9922  0.9922  0.8118\n",
            " 0.0000  0.0000  0.1529  0.5804  0.8980  0.9922  0.9922  0.9922  0.9804  0.7137\n",
            " 0.0941  0.4471  0.8667  0.9922  0.9922  0.9922  0.9922  0.7882  0.3059  0.0000\n",
            " 0.8353  0.9922  0.9922  0.9922  0.9922  0.7765  0.3176  0.0078  0.0000  0.0000\n",
            " 0.9922  0.9922  0.9922  0.7647  0.3137  0.0353  0.0000  0.0000  0.0000  0.0000\n",
            " 0.9922  0.9569  0.5216  0.0431  0.0000  0.0000  0.0000  0.0000  0.0000  0.0000\n",
            " 0.5176  0.0627  0.0000  0.0000  0.0000  0.0000  0.0000  0.0000  0.0000  0.0000\n",
            " 0.0000  0.0000  0.0000  0.0000  0.0000  0.0000  0.0000  0.0000  0.0000  0.0000\n",
            " 0.0000  0.0000  0.0000  0.0000  0.0000  0.0000  0.0000  0.0000  0.0000  0.0000\n",
            " 0.0000  0.0000  0.0000  0.0000  0.0000  0.0000  0.0000  0.0000  0.0000  0.0000\n",
            "\n",
            "Columns 20 to 27 \n",
            " 0.0000  0.0000  0.0000  0.0000  0.0000  0.0000  0.0000  0.0000\n",
            " 0.0000  0.0000  0.0000  0.0000  0.0000  0.0000  0.0000  0.0000\n",
            " 0.0000  0.0000  0.0000  0.0000  0.0000  0.0000  0.0000  0.0000\n",
            " 0.0000  0.0000  0.0000  0.0000  0.0000  0.0000  0.0000  0.0000\n",
            " 0.0000  0.0000  0.0000  0.0000  0.0000  0.0000  0.0000  0.0000\n",
            " 0.6510  1.0000  0.9686  0.4980  0.0000  0.0000  0.0000  0.0000\n",
            " 0.9922  0.9490  0.7647  0.2510  0.0000  0.0000  0.0000  0.0000\n",
            " 0.3216  0.2196  0.1529  0.0000  0.0000  0.0000  0.0000  0.0000\n",
            " 0.0000  0.0000  0.0000  0.0000  0.0000  0.0000  0.0000  0.0000\n",
            " 0.0000  0.0000  0.0000  0.0000  0.0000  0.0000  0.0000  0.0000\n",
            " 0.0000  0.0000  0.0000  0.0000  0.0000  0.0000  0.0000  0.0000\n",
            " 0.0000  0.0000  0.0000  0.0000  0.0000  0.0000  0.0000  0.0000\n",
            " 0.0000  0.0000  0.0000  0.0000  0.0000  0.0000  0.0000  0.0000\n",
            " 0.0000  0.0000  0.0000  0.0000  0.0000  0.0000  0.0000  0.0000\n",
            " 0.0000  0.0000  0.0000  0.0000  0.0000  0.0000  0.0000  0.0000\n",
            " 0.0000  0.0000  0.0000  0.0000  0.0000  0.0000  0.0000  0.0000\n",
            " 0.0000  0.0000  0.0000  0.0000  0.0000  0.0000  0.0000  0.0000\n",
            " 0.2510  0.0000  0.0000  0.0000  0.0000  0.0000  0.0000  0.0000\n",
            " 0.0078  0.0000  0.0000  0.0000  0.0000  0.0000  0.0000  0.0000\n",
            " 0.0000  0.0000  0.0000  0.0000  0.0000  0.0000  0.0000  0.0000\n",
            " 0.0000  0.0000  0.0000  0.0000  0.0000  0.0000  0.0000  0.0000\n",
            " 0.0000  0.0000  0.0000  0.0000  0.0000  0.0000  0.0000  0.0000\n",
            " 0.0000  0.0000  0.0000  0.0000  0.0000  0.0000  0.0000  0.0000\n",
            " 0.0000  0.0000  0.0000  0.0000  0.0000  0.0000  0.0000  0.0000\n",
            " 0.0000  0.0000  0.0000  0.0000  0.0000  0.0000  0.0000  0.0000\n",
            " 0.0000  0.0000  0.0000  0.0000  0.0000  0.0000  0.0000  0.0000\n",
            " 0.0000  0.0000  0.0000  0.0000  0.0000  0.0000  0.0000  0.0000\n",
            " 0.0000  0.0000  0.0000  0.0000  0.0000  0.0000  0.0000  0.0000\n",
            "[torch.FloatTensor of size 28x28]\n",
            "\n"
          ],
          "name": "stdout"
        },
        {
          "output_type": "display_data",
          "data": {
            "image/png": "[encoded data removed]",
            "text/plain": [
              "<matplotlib.figure.Figure at 0x7fac757a2208>"
            ]
          },
          "metadata": {
            "tags": []
          }
        },
        {
          "output_type": "stream",
          "text": [
            "Number of training points 60000\n",
            "Number of testing points 10000\n"
          ],
          "name": "stdout"
        }
      ]
    },
    {
      "metadata": {
        "id": "NdSkfcVyHxs4",
        "colab_type": "code",
        "colab": {}
      },
      "cell_type": "code",
      "source": [
        "batch_size = 128\n",
        "#Generators\n",
        "training_samples = torch.utils.data.DataLoader(dataset = training_data,\n",
        "                                              batch_size = batch_size,\n",
        "                                              shuffle = True) #Will shuffle after each time it trains\n",
        "\n",
        "test_samples = torch.utils.data.DataLoader(dataset = test_data,\n",
        "                                              batch_size = batch_size,\n",
        "                                           )"
      ],
      "execution_count": 0,
      "outputs": []
    },
    {
      "metadata": {
        "id": "CMdK4Pw4IpFv",
        "colab_type": "code",
        "colab": {}
      },
      "cell_type": "code",
      "source": [
        "class convnet(torch.nn.Module):\n",
        "  def __init__(self):\n",
        "    super().__init__()\n",
        "    self.conv1 = torch.nn.Conv2d(1, 32, kernel_size=5, stride=1) #Number of input channels (if colour then 3 because RGB), number of output channels, size of filter to apply, how much to shift filter by after doing dot product\n",
        "    self.conv2 = torch.nn.Conv2d(32, 64, kernel_size=5, stride=1)\n",
        "    self.conv3 = torch.nn.Conv2d(64, 128, kernel_size=5, stride=1)\n",
        "    self.dense1 = torch.nn.Linear(32768,10) #Flattened at end so input to end is 32768 (to find out can just print x.shape after each relu) \n",
        "    \n",
        "    self.bn1 = torch.nn.BatchNorm2d(32)\n",
        "    self.bn2 = torch.nn.BatchNorm2d(64)\n",
        "    self.bn3 = torch.nn.BatchNorm2d(128)\n",
        "    \n",
        "  def selu(self,x):\n",
        "    scale = 1.0507009873554804934193349852946\n",
        "    alpha = 1.6732632423543772848170429916717\n",
        "    x[x>0] = scale*x\n",
        "    x[x<=0] = scale*(alpha*x.exp() - alpha)\n",
        "    return x\n",
        "  \n",
        "  def forward(self,x):\n",
        "    x = F.relu(self.bn1(self.conv1(x)))\n",
        "    x = F.relu(self.bn2(self.conv2(x)))\n",
        "    x = F.relu(self.bn3(self.conv3(x))).view(x.shape[0],-1) #Flattens it to basically get a 2d vector\n",
        "    \n",
        "    x = F.softmax(self.dense1(x), dim = 1) #Chooses highest value at the end and dim = 1 means that sum has to be 1\n",
        "    return x\n",
        "    "
      ],
      "execution_count": 0,
      "outputs": []
    },
    {
      "metadata": {
        "id": "iZHy_WHWKVq2",
        "colab_type": "code",
        "colab": {}
      },
      "cell_type": "code",
      "source": [
        "lr = 0.00075\n",
        "epochs = 1 #Only 1 iteration because 60,000 data points should be enough to train\n",
        "\n",
        "cnn = convnet()\n",
        "criterion = torch.nn.CrossEntropyLoss()\n",
        "optimiser = torch.optim.Adam(cnn.parameters(),lr=lr)"
      ],
      "execution_count": 0,
      "outputs": []
    },
    {
      "metadata": {
        "id": "nIRlaq54Krhk",
        "colab_type": "code",
        "colab": {}
      },
      "cell_type": "code",
      "source": [
        "def train(epochs):\n",
        "  costs = []\n",
        "  \n",
        "  \n",
        "  for e in range(epochs):\n",
        "    for i, (x,y) in enumerate(training_samples): #enumerate gives current batch as i\n",
        "      x, y = Variable(x), Variable(y)\n",
        "\n",
        "      h = cnn.forward(x)\n",
        "      cost = criterion(h, y)\n",
        "      \n",
        "      optimiser.zero_grad()\n",
        "      cost.backward()\n",
        "      optimiser.step()\n",
        "      \n",
        "      costs.append(cost.data[0])\n",
        "      \n",
        "      #print('Epoch: ', e, 'Batch: ', i, 'Cost', cost.data[0])\n",
        "      \n",
        "train(epochs)"
      ],
      "execution_count": 0,
      "outputs": []
    },
    {
      "metadata": {
        "id": "TmQ1SCzRLwxR",
        "colab_type": "code",
        "colab": {
          "base_uri": "https://localhost:8080/",
          "height": 51
        },
        "outputId": "761f909e-f3f6-4649-b79d-9a8a7773f840"
      },
      "cell_type": "code",
      "source": [
        "def test():\n",
        "  print('Started evaluation...')\n",
        "  cnn.eval()\n",
        "  \n",
        "  correct = 0\n",
        "  for x, y in test_samples:\n",
        "    x = Variable(x) #Don't need to turn label into variable because we aren't trying to calculate cost, just what kind of number it is\n",
        "    \n",
        "    h = cnn.forward(x)\n",
        "    pred = h.data.max(1)[1] #Will give probabilites and output so want [1] because aren't interested in probabilities but in fact the label associated with it\n",
        "                            # the (1) tells you it is across each row, not each column (specifies the axis)\n",
        "    correct += pred.eq(y).sum()\n",
        "  \n",
        "  return correct/len(test_data)\n",
        "\n",
        "test()"
      ],
      "execution_count": 31,
      "outputs": [
        {
          "output_type": "stream",
          "text": [
            "Started evaluation...\n"
          ],
          "name": "stdout"
        },
        {
          "output_type": "execute_result",
          "data": {
            "text/plain": [
              "0.8945"
            ]
          },
          "metadata": {
            "tags": []
          },
          "execution_count": 31
        }
      ]
    },
    {
      "metadata": {
        "id": "pH6b4I-TNvDv",
        "colab_type": "code",
        "colab": {}
      },
      "cell_type": "code",
      "source": [
        ""
      ],
      "execution_count": 0,
      "outputs": []
    }
  ]
}