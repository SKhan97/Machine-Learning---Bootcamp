{
  "nbformat": 4,
  "nbformat_minor": 0,
  "metadata": {
    "colab": {
      "name": "Linear Regression - Numpy.ipynb",
      "version": "0.3.2",
      "provenance": []
    },
    "kernelspec": {
      "name": "python3",
      "display_name": "Python 3"
    },
    "accelerator": "GPU"
  },
  "cells": [
    {
      "cell_type": "markdown",
      "metadata": {
        "id": "view-in-github",
        "colab_type": "text"
      },
      "source": [
        "[View in Colaboratory](https://colab.research.google.com/github/SKhan97/Machine-Learning---Bootcamp/blob/master/Linear_Regression_Numpy.ipynb)"
      ]
    },
    {
      "metadata": {
        "id": "u0VdA3KdQ7lu",
        "colab_type": "code",
        "colab": {}
      },
      "cell_type": "code",
      "source": [
        "import numpy as np\n",
        "import matplotlib.pyplot as plt\n"
      ],
      "execution_count": 0,
      "outputs": []
    },
    {
      "metadata": {
        "id": "CXzRxwgxdoNO",
        "colab_type": "code",
        "colab": {
          "base_uri": "https://localhost:8080/",
          "height": 1697
        },
        "outputId": "30d5350c-2bae-4b25-caf7-26d508f59efc"
      },
      "cell_type": "code",
      "source": [
        "m = 100 #Number of datapoints required\n",
        "\n",
        "def makedata(numdatapoints):\n",
        "  x = np.linspace(-1, 1, numdatapoints)\n",
        "  x = x.reshape(-1, 1) # -1 indicates as many rows as needed, 1 indicates only one column\n",
        "  \n",
        "  coeffs = [1, -15, 1, 7]\n",
        "  y = np.polyval(coeffs, x) + 2 * np.random.rand(numdatapoints, 1)\n",
        "  y = y.reshape(-1, 1)\n",
        "  \n",
        "  return x, y\n",
        "\n",
        "powers = [2, 3] #Will be reliant on input^2 and input^3 terms\n",
        "\n",
        "def makefeatures(powers, x):\n",
        "  features = np.ones((x.shape[0], len(powers)))\n",
        "  \n",
        "  for i in range(len(powers)):\n",
        "    features[:, i] = (x**powers[i])[:, 0]\n",
        "    \n",
        "  print(features)\n",
        "  \n",
        "  return(features)\n",
        "\n",
        "data, labels = makedata(m)\n",
        "X = makefeatures(powers,data)"
      ],
      "execution_count": 3,
      "outputs": [
        {
          "output_type": "stream",
          "text": [
            "[[ 1.00000000e+00 -1.00000000e+00]\n",
            " [ 9.60004081e-01 -9.40610059e-01]\n",
            " [ 9.20824406e-01 -8.83619379e-01]\n",
            " [ 8.82460973e-01 -8.28978490e-01]\n",
            " [ 8.44913784e-01 -7.76637923e-01]\n",
            " [ 8.08182838e-01 -7.26548208e-01]\n",
            " [ 7.72268136e-01 -6.78659877e-01]\n",
            " [ 7.37169677e-01 -6.32923460e-01]\n",
            " [ 7.02887460e-01 -5.89289487e-01]\n",
            " [ 6.69421488e-01 -5.47708490e-01]\n",
            " [ 6.36771758e-01 -5.08130999e-01]\n",
            " [ 6.04938272e-01 -4.70507545e-01]\n",
            " [ 5.73921028e-01 -4.34788658e-01]\n",
            " [ 5.43720029e-01 -4.00924870e-01]\n",
            " [ 5.14335272e-01 -3.68866710e-01]\n",
            " [ 4.85766758e-01 -3.38564710e-01]\n",
            " [ 4.58014488e-01 -3.09969401e-01]\n",
            " [ 4.31078461e-01 -2.83031313e-01]\n",
            " [ 4.04958678e-01 -2.57700977e-01]\n",
            " [ 3.79655137e-01 -2.33928923e-01]\n",
            " [ 3.55167840e-01 -2.11665682e-01]\n",
            " [ 3.31496786e-01 -1.90861786e-01]\n",
            " [ 3.08641975e-01 -1.71467764e-01]\n",
            " [ 2.86603408e-01 -1.53434148e-01]\n",
            " [ 2.65381084e-01 -1.36711467e-01]\n",
            " [ 2.44975003e-01 -1.21250254e-01]\n",
            " [ 2.25385165e-01 -1.07001038e-01]\n",
            " [ 2.06611570e-01 -9.39143501e-02]\n",
            " [ 1.88654219e-01 -8.19407214e-02]\n",
            " [ 1.71513111e-01 -7.10306823e-02]\n",
            " [ 1.55188246e-01 -6.11347636e-02]\n",
            " [ 1.39679625e-01 -5.22034960e-02]\n",
            " [ 1.24987246e-01 -4.41874103e-02]\n",
            " [ 1.11111111e-01 -3.70370370e-02]\n",
            " [ 9.80512193e-02 -3.07029070e-02]\n",
            " [ 8.58075707e-02 -2.51355510e-02]\n",
            " [ 7.43801653e-02 -2.02854996e-02]\n",
            " [ 6.37690032e-02 -1.61032836e-02]\n",
            " [ 5.39740843e-02 -1.25394337e-02]\n",
            " [ 4.49954086e-02 -9.54448062e-03]\n",
            " [ 3.68329762e-02 -7.06895503e-03]\n",
            " [ 2.94867871e-02 -5.06338768e-03]\n",
            " [ 2.29568411e-02 -3.47830926e-03]\n",
            " [ 1.72431385e-02 -2.26425050e-03]\n",
            " [ 1.23456790e-02 -1.37174211e-03]\n",
            " [ 8.26446281e-03 -7.51314801e-04]\n",
            " [ 4.99948985e-03 -3.53499282e-04]\n",
            " [ 2.55076013e-03 -1.28826269e-04]\n",
            " [ 9.18273646e-04 -2.78264741e-05]\n",
            " [ 1.02030405e-04 -1.03061015e-06]\n",
            " [ 1.02030405e-04  1.03061015e-06]\n",
            " [ 9.18273646e-04  2.78264741e-05]\n",
            " [ 2.55076013e-03  1.28826269e-04]\n",
            " [ 4.99948985e-03  3.53499282e-04]\n",
            " [ 8.26446281e-03  7.51314801e-04]\n",
            " [ 1.23456790e-02  1.37174211e-03]\n",
            " [ 1.72431385e-02  2.26425050e-03]\n",
            " [ 2.29568411e-02  3.47830926e-03]\n",
            " [ 2.94867871e-02  5.06338768e-03]\n",
            " [ 3.68329762e-02  7.06895503e-03]\n",
            " [ 4.49954086e-02  9.54448062e-03]\n",
            " [ 5.39740843e-02  1.25394337e-02]\n",
            " [ 6.37690032e-02  1.61032836e-02]\n",
            " [ 7.43801653e-02  2.02854996e-02]\n",
            " [ 8.58075707e-02  2.51355510e-02]\n",
            " [ 9.80512193e-02  3.07029070e-02]\n",
            " [ 1.11111111e-01  3.70370370e-02]\n",
            " [ 1.24987246e-01  4.41874103e-02]\n",
            " [ 1.39679625e-01  5.22034960e-02]\n",
            " [ 1.55188246e-01  6.11347636e-02]\n",
            " [ 1.71513111e-01  7.10306823e-02]\n",
            " [ 1.88654219e-01  8.19407214e-02]\n",
            " [ 2.06611570e-01  9.39143501e-02]\n",
            " [ 2.25385165e-01  1.07001038e-01]\n",
            " [ 2.44975003e-01  1.21250254e-01]\n",
            " [ 2.65381084e-01  1.36711467e-01]\n",
            " [ 2.86603408e-01  1.53434148e-01]\n",
            " [ 3.08641975e-01  1.71467764e-01]\n",
            " [ 3.31496786e-01  1.90861786e-01]\n",
            " [ 3.55167840e-01  2.11665682e-01]\n",
            " [ 3.79655137e-01  2.33928923e-01]\n",
            " [ 4.04958678e-01  2.57700977e-01]\n",
            " [ 4.31078461e-01  2.83031313e-01]\n",
            " [ 4.58014488e-01  3.09969401e-01]\n",
            " [ 4.85766758e-01  3.38564710e-01]\n",
            " [ 5.14335272e-01  3.68866710e-01]\n",
            " [ 5.43720029e-01  4.00924870e-01]\n",
            " [ 5.73921028e-01  4.34788658e-01]\n",
            " [ 6.04938272e-01  4.70507545e-01]\n",
            " [ 6.36771758e-01  5.08130999e-01]\n",
            " [ 6.69421488e-01  5.47708490e-01]\n",
            " [ 7.02887460e-01  5.89289487e-01]\n",
            " [ 7.37169677e-01  6.32923460e-01]\n",
            " [ 7.72268136e-01  6.78659877e-01]\n",
            " [ 8.08182838e-01  7.26548208e-01]\n",
            " [ 8.44913784e-01  7.76637923e-01]\n",
            " [ 8.82460973e-01  8.28978490e-01]\n",
            " [ 9.20824406e-01  8.83619379e-01]\n",
            " [ 9.60004081e-01  9.40610059e-01]\n",
            " [ 1.00000000e+00  1.00000000e+00]]\n"
          ],
          "name": "stdout"
        }
      ]
    },
    {
      "metadata": {
        "id": "KbVpkgJljiXK",
        "colab_type": "code",
        "colab": {}
      },
      "cell_type": "code",
      "source": [
        "n = X.shape[1] #Number of features\n",
        "\n",
        "class LinearModel():\n",
        "  def __init__(self):\n",
        "    self.weights = np.random.randn(n, 1) #Randomly initialise object features\n",
        "    self.bias = np.random.randn(1)\n",
        "    \n",
        "  def forward(self, x):\n",
        "    out = np.matmul(x,self.weights) + self.bias # h = X*theta + bias\n",
        "    \n",
        "    return out\n",
        "\n",
        "mymodel = LinearModel()\n",
        "\n",
        "def MSE(h, y): #Mean Squared Error - measure of how 'good' model is\n",
        "  diff = h - y\n",
        "  J = 0.5 * np.matmul(diff.T,diff)/batch_size \n",
        "  return float(J)\n",
        "\n",
        "def SGD(datain, batch_size): #Stochastic Gradient Descent - method of reducing\n",
        "                             #the error by going against gradient direction\n",
        "  sample = np.random.randint(m, size = batch_size)\n",
        "  \n",
        "  batchfeatures, batchlabels = datain[sample], labels[sample]\n",
        "  \n",
        "  prediction = mymodel.forward(batchfeatures)\n",
        "  \n",
        "  cost = MSE(prediction, batchlabels)\n",
        "  \n",
        "  \n",
        "  dJdw = np.matmul(batchfeatures.T, prediction - batchlabels)/batch_size\n",
        "  mymodel.weights -= lr * dJdw\n",
        "  \n",
        "  dJdb = np.sum(prediction - batchlabels)/batch_size\n",
        "  mymodel.bias -= lr * dJdb\n",
        "  \n",
        "  return cost\n",
        "\n",
        "def train(datain):\n",
        "  costs = []\n",
        "  \n",
        "  for e in range(epochs):\n",
        "    \n",
        "    #print('b', mymodel.bias[0])\n",
        "    #print('w', mymodel.weights)\n",
        "    \n",
        "    cost = SGD(datain, batch_size)\n",
        "    costs.append(cost)\n",
        "    \n",
        "    #print('Epoch ', e , 'Cost ', cost)\n",
        "    \n",
        "  return costs\n",
        "\n",
        "#Variables which should be played around with to give optimal results\n",
        "lr = 0.08 #Learning rate\n",
        "epochs = 1000 #Number of iterations over the training data\n",
        "batch_size = 32 \n",
        "\n",
        "datain = X\n",
        "costs = train(datain)\n",
        "  "
      ],
      "execution_count": 0,
      "outputs": []
    },
    {
      "metadata": {
        "id": "eIQoQ21Brg2c",
        "colab_type": "code",
        "colab": {
          "base_uri": "https://localhost:8080/",
          "height": 376
        },
        "outputId": "5c5208aa-a5f8-44ec-e014-13c116043cec"
      },
      "cell_type": "code",
      "source": [
        "fig = plt.figure()\n",
        "ax1 = fig.add_subplot(121) #1 figure high, 2 wide, 1st figure\n",
        "ax1.set_xlabel('Input')\n",
        "ax1.set_ylabel('Output')\n",
        "ax1.scatter(data, labels, s =5, label = 'raw inputs')\n",
        "ax1.plot(data, mymodel.forward(datain), c = 'g', label = 'hypothesis')\n",
        "ax1.grid()\n",
        "ax1.legend()\n",
        "\n",
        "ax2 = fig.add_subplot(122)\n",
        "ax2.set_title('Error vs epoch')\n",
        "ax2.grid()\n",
        "ax2.plot(costs)\n",
        "\n",
        "plt.show()"
      ],
      "execution_count": 11,
      "outputs": [
        {
          "output_type": "display_data",
          "data": {
            "image/png": "[encoded data removed]",
            "text/plain": [
              "<matplotlib.figure.Figure at 0x7fb9bbbc87b8>"
            ]
          },
          "metadata": {
            "tags": []
          }
        }
      ]
    },
    {
      "metadata": {
        "id": "KzH8HmQZs2ko",
        "colab_type": "code",
        "colab": {}
      },
      "cell_type": "code",
      "source": [
        ""
      ],
      "execution_count": 0,
      "outputs": []
    }
  ]
}