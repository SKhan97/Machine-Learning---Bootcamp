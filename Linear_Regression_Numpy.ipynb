{
  "nbformat": 4,
  "nbformat_minor": 0,
  "metadata": {
    "colab": {
      "name": "Linear Regression - Numpy.ipynb",
      "version": "0.3.2",
      "provenance": []
    },
    "kernelspec": {
      "name": "python3",
      "display_name": "Python 3"
    },
    "accelerator": "GPU"
  },
  "cells": [
    {
      "cell_type": "markdown",
      "metadata": {
        "id": "view-in-github",
        "colab_type": "text"
      },
      "source": [
        "[View in Colaboratory](https://colab.research.google.com/github/SKhan97/Machine-Learning---Bootcamp/blob/master/Linear_Regression_Numpy.ipynb)"
      ]
    },
    {
      "metadata": {
        "id": "u0VdA3KdQ7lu",
        "colab_type": "code",
        "colab": {}
      },
      "cell_type": "code",
      "source": [
        "import numpy as np\n",
        "import matplotlib.pyplot as plt\n"
      ],
      "execution_count": 0,
      "outputs": []
    },
    {
      "metadata": {
        "id": "CXzRxwgxdoNO",
        "colab_type": "code",
        "colab": {
          "base_uri": "https://localhost:8080/",
          "height": 1697
        },
        "outputId": "b464fa7a-fa84-4e8d-fa9b-22681a6a2722"
      },
      "cell_type": "code",
      "source": [
        "m = 100 #Number of datapoints required\n",
        "\n",
        "def makedata(numdatapoints):\n",
        "  x = np.linspace(-1, 1, numdatapoints)\n",
        "  x = x.reshape(-1, 1) # -1 indicates as many rows as needed, 1 indicates only one column\n",
        "  \n",
        "  coeffs = [1, -15, 1, 7]\n",
        "  y = np.polyval(coeffs, x) + 2 * np.random.rand(numdatapoints, 1)\n",
        "  y = y.reshape(-1, 1)\n",
        "  \n",
        "  return x, y\n",
        "\n",
        "powers = [2, 3] #Will be reliant on input^2 and input^3 terms\n",
        "\n",
        "def makefeatures(powers, x):\n",
        "  features = np.ones((x.shape[0], len(powers)))\n",
        "  \n",
        "  for i in range(len(powers)):\n",
        "    features[:, i] = (x**powers[i])[:, 0]\n",
        "    \n",
        "  print(features)\n",
        "  \n",
        "  return(features)\n",
        "\n",
        "data, labels = makedata(m)\n",
        "X = makefeatures(powers,data)"
      ],
      "execution_count": 9,
      "outputs": [
        {
          "output_type": "stream",
          "text": [
            "[[ 1.00000000e+00 -1.00000000e+00]\n",
            " [ 9.60004081e-01 -9.40610059e-01]\n",
            " [ 9.20824406e-01 -8.83619379e-01]\n",
            " [ 8.82460973e-01 -8.28978490e-01]\n",
            " [ 8.44913784e-01 -7.76637923e-01]\n",
            " [ 8.08182838e-01 -7.26548208e-01]\n",
            " [ 7.72268136e-01 -6.78659877e-01]\n",
            " [ 7.37169677e-01 -6.32923460e-01]\n",
            " [ 7.02887460e-01 -5.89289487e-01]\n",
            " [ 6.69421488e-01 -5.47708490e-01]\n",
            " [ 6.36771758e-01 -5.08130999e-01]\n",
            " [ 6.04938272e-01 -4.70507545e-01]\n",
            " [ 5.73921028e-01 -4.34788658e-01]\n",
            " [ 5.43720029e-01 -4.00924870e-01]\n",
            " [ 5.14335272e-01 -3.68866710e-01]\n",
            " [ 4.85766758e-01 -3.38564710e-01]\n",
            " [ 4.58014488e-01 -3.09969401e-01]\n",
            " [ 4.31078461e-01 -2.83031313e-01]\n",
            " [ 4.04958678e-01 -2.57700977e-01]\n",
            " [ 3.79655137e-01 -2.33928923e-01]\n",
            " [ 3.55167840e-01 -2.11665682e-01]\n",
            " [ 3.31496786e-01 -1.90861786e-01]\n",
            " [ 3.08641975e-01 -1.71467764e-01]\n",
            " [ 2.86603408e-01 -1.53434148e-01]\n",
            " [ 2.65381084e-01 -1.36711467e-01]\n",
            " [ 2.44975003e-01 -1.21250254e-01]\n",
            " [ 2.25385165e-01 -1.07001038e-01]\n",
            " [ 2.06611570e-01 -9.39143501e-02]\n",
            " [ 1.88654219e-01 -8.19407214e-02]\n",
            " [ 1.71513111e-01 -7.10306823e-02]\n",
            " [ 1.55188246e-01 -6.11347636e-02]\n",
            " [ 1.39679625e-01 -5.22034960e-02]\n",
            " [ 1.24987246e-01 -4.41874103e-02]\n",
            " [ 1.11111111e-01 -3.70370370e-02]\n",
            " [ 9.80512193e-02 -3.07029070e-02]\n",
            " [ 8.58075707e-02 -2.51355510e-02]\n",
            " [ 7.43801653e-02 -2.02854996e-02]\n",
            " [ 6.37690032e-02 -1.61032836e-02]\n",
            " [ 5.39740843e-02 -1.25394337e-02]\n",
            " [ 4.49954086e-02 -9.54448062e-03]\n",
            " [ 3.68329762e-02 -7.06895503e-03]\n",
            " [ 2.94867871e-02 -5.06338768e-03]\n",
            " [ 2.29568411e-02 -3.47830926e-03]\n",
            " [ 1.72431385e-02 -2.26425050e-03]\n",
            " [ 1.23456790e-02 -1.37174211e-03]\n",
            " [ 8.26446281e-03 -7.51314801e-04]\n",
            " [ 4.99948985e-03 -3.53499282e-04]\n",
            " [ 2.55076013e-03 -1.28826269e-04]\n",
            " [ 9.18273646e-04 -2.78264741e-05]\n",
            " [ 1.02030405e-04 -1.03061015e-06]\n",
            " [ 1.02030405e-04  1.03061015e-06]\n",
            " [ 9.18273646e-04  2.78264741e-05]\n",
            " [ 2.55076013e-03  1.28826269e-04]\n",
            " [ 4.99948985e-03  3.53499282e-04]\n",
            " [ 8.26446281e-03  7.51314801e-04]\n",
            " [ 1.23456790e-02  1.37174211e-03]\n",
            " [ 1.72431385e-02  2.26425050e-03]\n",
            " [ 2.29568411e-02  3.47830926e-03]\n",
            " [ 2.94867871e-02  5.06338768e-03]\n",
            " [ 3.68329762e-02  7.06895503e-03]\n",
            " [ 4.49954086e-02  9.54448062e-03]\n",
            " [ 5.39740843e-02  1.25394337e-02]\n",
            " [ 6.37690032e-02  1.61032836e-02]\n",
            " [ 7.43801653e-02  2.02854996e-02]\n",
            " [ 8.58075707e-02  2.51355510e-02]\n",
            " [ 9.80512193e-02  3.07029070e-02]\n",
            " [ 1.11111111e-01  3.70370370e-02]\n",
            " [ 1.24987246e-01  4.41874103e-02]\n",
            " [ 1.39679625e-01  5.22034960e-02]\n",
            " [ 1.55188246e-01  6.11347636e-02]\n",
            " [ 1.71513111e-01  7.10306823e-02]\n",
            " [ 1.88654219e-01  8.19407214e-02]\n",
            " [ 2.06611570e-01  9.39143501e-02]\n",
            " [ 2.25385165e-01  1.07001038e-01]\n",
            " [ 2.44975003e-01  1.21250254e-01]\n",
            " [ 2.65381084e-01  1.36711467e-01]\n",
            " [ 2.86603408e-01  1.53434148e-01]\n",
            " [ 3.08641975e-01  1.71467764e-01]\n",
            " [ 3.31496786e-01  1.90861786e-01]\n",
            " [ 3.55167840e-01  2.11665682e-01]\n",
            " [ 3.79655137e-01  2.33928923e-01]\n",
            " [ 4.04958678e-01  2.57700977e-01]\n",
            " [ 4.31078461e-01  2.83031313e-01]\n",
            " [ 4.58014488e-01  3.09969401e-01]\n",
            " [ 4.85766758e-01  3.38564710e-01]\n",
            " [ 5.14335272e-01  3.68866710e-01]\n",
            " [ 5.43720029e-01  4.00924870e-01]\n",
            " [ 5.73921028e-01  4.34788658e-01]\n",
            " [ 6.04938272e-01  4.70507545e-01]\n",
            " [ 6.36771758e-01  5.08130999e-01]\n",
            " [ 6.69421488e-01  5.47708490e-01]\n",
            " [ 7.02887460e-01  5.89289487e-01]\n",
            " [ 7.37169677e-01  6.32923460e-01]\n",
            " [ 7.72268136e-01  6.78659877e-01]\n",
            " [ 8.08182838e-01  7.26548208e-01]\n",
            " [ 8.44913784e-01  7.76637923e-01]\n",
            " [ 8.82460973e-01  8.28978490e-01]\n",
            " [ 9.20824406e-01  8.83619379e-01]\n",
            " [ 9.60004081e-01  9.40610059e-01]\n",
            " [ 1.00000000e+00  1.00000000e+00]]\n"
          ],
          "name": "stdout"
        }
      ]
    },
    {
      "metadata": {
        "id": "KbVpkgJljiXK",
        "colab_type": "code",
        "colab": {
          "base_uri": "https://localhost:8080/",
          "height": 67267
        },
        "outputId": "594b56c6-6aae-4bd0-89fb-708330d28641"
      },
      "cell_type": "code",
      "source": [
        "n = X.shape[1] #Number of features\n",
        "\n",
        "class LinearModel():\n",
        "  def __init__(self):\n",
        "    self.weights = np.random.randn(n, 1) #Randomly initialise object features\n",
        "    self.bias = np.random.randn(1)\n",
        "    \n",
        "  def forward(self, x):\n",
        "    out = np.matmul(x,self.weights) + self.bias # h = X*theta + bias\n",
        "    \n",
        "    return out\n",
        "\n",
        "mymodel = LinearModel()\n",
        "\n",
        "def MSE(h, y): #Mean Squared Error - measure of how 'good' model is\n",
        "  diff = h - y\n",
        "  J = 0.5 * np.matmul(diff.T,diff)/batch_size \n",
        "  return float(J)\n",
        "\n",
        "def SGD(datain, batch_size): #Stochastic Gradient Descent - method of reducing\n",
        "                             #the error by going against gradient direction\n",
        "  sample = np.random.randint(m, size = batch_size)\n",
        "  \n",
        "  batchfeatures, batchlabels = datain[sample], labels[sample]\n",
        "  \n",
        "  prediction = mymodel.forward(batchfeatures)\n",
        "  \n",
        "  cost = MSE(prediction, batchlabels)\n",
        "  \n",
        "  \n",
        "  dJdw = np.matmul(batchfeatures.T, prediction - batchlabels)/batch_size\n",
        "  mymodel.weights -= lr * dJdw\n",
        "  \n",
        "  dJdb = np.sum(prediction - batchlabels)/batch_size\n",
        "  mymodel.bias -= lr * dJdb\n",
        "  \n",
        "  return cost\n",
        "\n",
        "def train(datain):\n",
        "  costs = []\n",
        "  \n",
        "  for e in range(epochs):\n",
        "    \n",
        "    print('b', mymodel.bias[0])\n",
        "    print('w', mymodel.weights)\n",
        "    \n",
        "    cost = SGD(datain, batch_size)\n",
        "    costs.append(cost)\n",
        "    \n",
        "    #print('Epoch ', e , 'Cost ', cost)\n",
        "    \n",
        "  return costs\n",
        "\n",
        "#Variables which should be played around with to give optimal results\n",
        "lr = 0.1 #Learning rate\n",
        "epochs = 1000 #Number of iterations over the training data\n",
        "batch_size = 32 \n",
        "\n",
        "datain = X\n",
        "costs = train(datain)\n",
        "  "
      
    },
    {
      "metadata": {
        "id": "eIQoQ21Brg2c",
        "colab_type": "code",
        "colab": {
          "base_uri": "https://localhost:8080/",
          "height": 376
        },
        "outputId": "25368ccb-a143-476e-ba1a-fe1fb40f4d5b"
      },
      "cell_type": "code",
      "source": [
        "fig = plt.figure()\n",
        "ax1 = fig.add_subplot(121) #1 figure high, 2 wide, 1st figure\n",
        "ax1.set_xlabel('Input')\n",
        "ax1.set_ylabel('Output')\n",
        "ax1.scatter(data, labels, s =5, label = 'raw inputs')\n",
        "ax1.plot(data, mymodel.forward(datain), c = 'g', label = 'hypothesis')\n",
        "ax1.grid()\n",
        "ax1.legend()\n",
        "\n",
        "ax2 = fig.add_subplot(122)\n",
        "ax2.set_title('Error vs epoch')\n",
        "ax2.grid()\n",
        "ax2.plot(costs)\n",
        "\n",
        "plt.show()"
      ],
      "execution_count": 18,
      "outputs": [
        {
          "output_type": "display_data",
          "data": {
            "image/png": "iVBORw0KGgoAAAANSUhEUgAAAf0AAAFnCAYAAACsMZCtAAAABHNCSVQICAgIfAhkiAAAAAlwSFlz\nAAALEgAACxIB0t1+/AAAADl0RVh0U29mdHdhcmUAbWF0cGxvdGxpYiB2ZXJzaW9uIDIuMS4yLCBo\ndHRwOi8vbWF0cGxvdGxpYi5vcmcvNQv5yAAAIABJREFUeJzs3XdYU/f+B/B3SNgge4qoqFVU3KCI\nA3HgrgtXtbXL26Udtnq1vVdbta39dbqt9Wqrde9arXsVRVRQQcE9ANlLEEQI5/cHkoqsCCTnJHm/\nnqdP5ZyQ89YWP/lumSAIAoiIiEjvGYkdgIiIiLSDRZ+IiMhAsOgTEREZCBZ9IiIiA8GiT0REZCBY\n9ImIiAyEQuwARERUsebNm8PT0xNyubzM9W+++QZt2rQRKZU0LFq0CElJSZg/f77YUXQKiz4RkYSt\nXbsWrq6uYscgPcHufSIiHRQfH49u3brhyy+/xIQJEwCU9AysWLECwcHBUCqViI2NxdixY9G/f3+8\n+OKLOHnyJADgzJkzGDt2LN5//31MmzatzPv+/vvveOutt1RfK5VKdO7cGTdv3sS+ffswePBgDBgw\nAEOGDMGZM2fK5RIEAYsXL0ZwcDB69eqFefPmQalUAgCCgoKwcuVKjBgxAl26dMGPP/6o+r7S9+7f\nvz9efvll3Lt3DwDw6NEjTJ8+HUFBQRgwYAB27dql+p7Hjx/jo48+QlBQEEaPHo3k5OQ6+tPVYwIR\nEUnSCy+8ICQmJlZ4Ly4uTmjVqpWwffv2Mq9ftmyZIAiCoFQqhQEDBgh//PGHIAiCcOnSJcHX11fI\nyckRwsLCBB8fH+HUqVPl3jclJUVo166dkJeXJwiCIJw+fVoYPHiwIAiC0LlzZyE+Pl4QBEE4e/as\n8OWXX5b7/h07dgiDBg0SHjx4IBQWFgqTJ08W1q5dKwiCIPTq1Ut45513hKKiIiEtLU3w9fUVYmJi\nhISEBKFjx47CnTt3BEEQhFWrVgmvvPKKIAiCsGTJEuGDDz4QBEEQEhMThY4dOwpJSUnCwoULhYCA\nAFWef/3rX8LixYuf40/XMLGlT0QkYRMnTkT//v1V/4wfP151r7CwEH379i3z+sDAQAAlPQFpaWkY\nNGgQAMDHxwfu7u6IiooCAJiZmcHf37/c85ycnNCyZUuEhoYCAA4dOoQBAwYAABwcHLBx40YkJCSg\nU6dOmDlzZrnvP3r0KEaOHAlra2soFAqEhITgwIEDqvvDhg2DXC6Hg4MDOnbsiIiICISGhqJz585o\n2LAhACAkJARnzpxBUVERTpw4ofo9uLq64vjx43BxcQEAdOzYEfXr1wcAtGjRgi19NXBMn4hIwqoa\n05fL5bCysipzzdbWFgCQkZEBa2tryGQy1b169eohIyMDjo6OsLGxqfSZwcHBOHLkCPr06YPDhw9j\n9erVAIBly5Zh2bJlGDFiBNzc3DBr1iz4+fmV+d6cnBysWrUKmzZtAlAyPGBvb6+6//RzbWxs8ODB\nAxgZGaFevXqq69bW1hAEAZmZmcjMzIS1tbXqnqWlperXT//e5XK5ahiBKseiT0SkhxwcHJCdnQ1B\nEFSFPysrCw4ODtV+b3BwMFasWIGoqCjY2NigUaNGAABPT0989dVXKC4uxs6dOzFt2jTVPIFSzs7O\nCAoKUs0zeFZmZqbq11lZWbCxsYGJiQkiIyNV17Ozs2FkZAQ7OzvY2dmV+Z6kpKQqP7BQ1di9T0Sk\nhzw8PODq6oq9e/cCACIiIpCWlqbWUj8XFxc0aNAAy5cvV3XtZ2Rk4NVXX0Vubi6MjIzQtm3bMr0I\npXr37o1du3YhPz8fALBx40bs2LFDdX/v3r0oLi5GWloaIiIi0KlTJwQEBODcuXOIi4tTfU9AQAAU\nCgWCgoKwc+dOCIKA1NRUDBs2rMyHAHo+bOkTEUnYxIkTy63TnzBhgmrsvjIymQzff/89Zs+ejcWL\nF8Pc3Bw//fQTLCws1HpucHAwvv76a8yYMQMAYG9vj+7du2PkyJGQy+UwNjaucI18nz59cP36dQwf\nPhxASe/A069r1qwZRo0ahYSEBEycOBHNmjUDAMybNw/vvPMOCgsL4eHhgblz5wIAJk2ahLt376JX\nr14wMzPDjBkz4O7urtbvgcqTCYIgiB2CiIj0X1BQEL755ht06tRJ7CgGi937REREBoJFn4iIyECw\ne5+IiMhAsKVPRERkIFj0iYiIDITeLtlLTc0ROwKRTnBysq7+RSLizzKRetT5WWZLn4iIyECw6BMR\nERkIFn0iIiIDwaJPRERkIFj0iYiIDASLPhERkYFg0SciIjIQLPpEREQGgkWfiIjIQLDoExERGQgW\nfSLSqGvXrqFPnz5Yt24dAKCwsBDTpk3DqFGj8MorryA7O1vkhESGg0WfJCU8Jhk/bL6A8JhksaNQ\nHcjLy8PcuXPh7++vurZ582bY2dlh69atGDhwIM6dO1e7ZzwqxKnoRBQpi2sbl0jvseiTpIRGJSLq\nVgZCoxLFjkJ1wMTEBCtXroSzs7Pq2tGjRzF06FAAwJgxY9C7d+9aPSM0Ogm/7InB9bisWr0PkSHQ\n21P2SDrCY5IRGpWIAB83+Hm7VHk/wMcNAFT/Jt2mUCigUJT9ayYhIQEnTpzA//3f/8HR0RGzZ8+G\nra1tjZ9RVFTSwi9kS5+oWmzpk8ZV1nov7cr/8/Rd1X0/bxd8OLpdhR8OSD8IgoDGjRtj7dq1aNas\nGVasWFFH71snb0Ok11j0qU5VNCYf4OMGHy/7cq330g8DgFDhfdJPjo6O8PX1BQB069YNN27cqN0b\nyuogFJGBYPc+1al/CjlUrXU/bxf4ebuoPhCUdvM/3ZWvbsu+uqECkr4ePXrg5MmTGDlyJC5fvozG\njRvXyfuyoU9UPRZ9qlNVjck/+4Gg9J/nUdGHCpKu6OhoLFiwAAkJCVAoFNi/fz++/fZbzJ8/H1u3\nboWFhQUWLFhQq2fISpv6rPpE1WLRpzpVVSGvi0l6nOinW1q3bo21a9eWu75w4UIR0hARiz5pTU1a\n9pp4D9JPApv6RNVi0SeNURYrEZ8bh8SHicguKFlDbSY3g4ulKzytG8LC2ELkhKQPZJzIR6Q2Fn2q\nE6UT7Bp45SJBdgZH4w7jYuoFPCzMrfD1RjIjvGDXHP7uAejXsD+6ewTCRG5S6fty4h5Viw19omqx\n6FOthMck4+SlOJx7cBAR+duRmXYVQMnkqub2LdDKwQce1g1ga2oHmUyGh4W5SHqYhGuZsYhKvYTY\njBisjv4FtsYOaK7oh7fbvY2B7dup3p8T96g6bOgTqY9Fn2pMEAT8cm49DmatwEP5fUAhQ0f7nnit\n/UuwK2iHqNhHCPCovIVeqCzE2aQz+PPWbqyNXo8zhRtw7vRWTHjwMj72/TdcLFw4cY/UxoY+UfVY\n9KlGbmffwowTH+FYzhEYyeXo7z4GX/SahUY2JWuuf9h8odoWurHcGF3rd0PX+t0wwO49rIpYhwjl\nBvx6eRW2XduMj33/jclt3mYLn6rGQX0itbHo03MRBAGbrq7Hv098jLyihwhsEISvu38LL9umZV73\nvC30bq090a31LBQVT8e6K7/iqzNfYM6pT/HHzR1YFLQCTe2a1fnvhfQLt+Elqh634SW1FSgL8MHR\ndzH1yNuQG8mxtM9KbBq8o1zBB6DacS80KvG5jslVGCkwqfXrOP1SBEY0G4XzyefQZ0t3bLu2uS5/\nK6RH2M4nUp8kWvpbtmzB7t27VV9HR0cjMjJS9XWrVq3QoUMH1ddr1qyBXC7XakZDl5afhkn7xiM8\nKQztnNpjZfCvaFivUZXfU5tJeDduF6F55lTMaNUdS659hrcPvYGI5HP4POBLKIwk8b8tSQ6b+kTV\nkcTfniEhIQgJCQEAhIeHY9++fWXuW1lZVbirF2lHQk48Qv54ETeyrmN405H4MWgpzBXm1X5fZV38\n6izDK/3A4IP2OBhyDK/+NQEro5bjzoPbWNFvNayMrWr/GyP9wKY+kdokUfSftmTJEnz77bdixyCU\nFOc9F85jW95HSC24j3faTcVs/7mQqTlxqrLd89TpAXj6A0MTWxfsGX4Ar+9/GQfv7seoXUOwYfA2\n2JnZ1/B3RvqIY/pE1ZPUmP6lS5fg5uYGJyenMtcfP36MadOmYezYsVi9erVI6QzPvgsX8Wv6VKQW\n3MdMv/88V8GvSmVH7T7Nz9sFH45up/pQUM/UBusHbcXo5uMQkXIew3cNRmpeaq2zkO5jQ59IfZJq\n6W/duhXDhw8vd3369OkYOnQoZDIZJkyYgE6dOsHHx0eEhIYjPT8duwqmI98oBS81fh8fdvqkzt67\nJvvnlw4JTGg9BxYKC6y5vAqjdg/FzmF/ssVv4OrigyiRoZBUS//MmTNo3759uevjxo2DpaUlLCws\n0KVLF1y7dk2EdIbjUdEjvLxvLOLzbuHddu/j+/5fiB1JNSRwOjoZC3p8j1dbv4GYjMsY88dw5Dx+\nIHY8kgD27hNVTzJFPzk5GZaWljAxKbv/+q1btzBt2jQIgoCioiJERESgWTOu2dYUQRAw9chbOJt0\nBiOajcJ//b+QREvq6SEBmUyGr7p/i3EtJuBCaiRe/WsiHisfix2RiEjyJNO9n5qaCnv7f7ppf/75\nZ/j6+qJ9+/ZwdXXFqFGjYGRkhKCgILRp00bEpPptUeSP2HljO/xcu+DHXkslUfCB8kMCRjIjfBe4\nEBmP0rH/zj58dGwKFgUtrzIvD+/RbwJn8hFVSybo6U9KamqO2BF0zvG4oxizZzhcLFxxMOQEnC2c\nxY5UrYeFDzFy12BEpJzHp51n4/2O0yp9benWwD5e9vhwdLtKX2donJysxY5Qpep+lo9ExGPdgWt4\n68VW/DBHBk2dn2XJtPRJXMkPk/DWwdcgl8mxKvi3MgU/PCYZf56+A0CGQf4NJfUXq6WxJX4buAnB\nWwPx5ZkvcPWKGSZ1GlVhRh7eQ0SGTjJj+iSeYqEY7x7+F9IfpWNO13no5OpX5n5oVCLiUh4iLiUX\noVGJAEo+CPyw+cJzbbGrKc4WzvhtwAbIYYKdD77A7sgzFb7u2WWApB+kMQBFpBtY9AlLLyzCifij\n6NewP97weavc/QAfNzRwtkQDZytVK7l0Nn3phwAxPP3Bw8epLT5s+RWKZPnYX/gF8grzRMtF4tDP\ngUqiusXufQMXmxGDr8/MhbOFC34MqnjiXkXr6qXQVf7szn6fBL6BNKMrWB39C2ac+AiLei8XLRtp\nkUQmmxLpAhZ9A/P0DPYOzR0w9fBbeFz8GN8FLoSjuaPa71OTDXbqWukHDhd7c/yw+QICfNzwRcBX\niEw+j01X16OXZ2+MaBYiakbSHoEr9Ymqxe59A/N0t/zSCwtxITUSo5uPQ3CjAWJHey5Pf3hJzshX\n/Z5M5aZ4x+v/YAxzfHB4KmZv2CeJeQekOap2Pms+UbXY0jcwpa1jr6aPMeXs13Ayd8a8gK/LvEYX\n1rM/3bX/7FDD7ZsmaJn/Ji6aL8Sm1Dmod2lppb8PXfi9UjXYu0+kNhZ9A+Pn7QLfFs4Yu2cEHikf\n4aduS2FrZlfmNVWdgieVIvl0oX92qCHAxw2CMBIouIyLuYeRZnsAQMcK30edE/9IN7ChT1Q9du8b\noN03d+Bo3GEENgjCsKYjy92v6hQ8KczaB6pefufn7YKPxrTHhpCVcDR3xLo73+NaxtUK30edE/+o\ndq5du4Y+ffpg3bp1Za6fPHkSzZs3r/X7s6FPpD629A1MXmEe5pz6DCZGJvi6x3dqz9YvJYVZ++py\nNHfE//X8Ca/+9RI+OPou9ow4ACNZ2c+5UpiQqM/y8vIwd+5c+Pv7l7leUFCAn3/+udwx2rXCpj5R\ntdjSNzCLI39EQm483m43BV42TcrcU2fDHV3b4GaQ1xC82GQEziWHY3X0L2LHMTgmJiZYuXIlnJ3L\nbum8fPlyjB8/vtwBWzUhlfMhiHQBi74Bic+Jw+LIH+Fi4Yr3O3xU7r5Uuu7r2vzu38DW1BbzwuYg\nISde7DgGRaFQwMzMrMy127dvIzY2FgMG1O2KES7ZI6oei76BCI9JxsubP8Ij5SN82mU2rEysy7Xs\n9XV829nCGXO6zsfDwlx8FvpvseMYvK+++gozZ84UOwaRQWLRNxDbI08g+tEBOMubYnTzcQDKt+x1\nrev+eYxrMQGd3fzx563dOHz3QLn7UjpLQJ8lJyfj1q1b+PjjjzF69GikpKRgwoQJdfLe3IaXqHqc\nyGcgImWrAZmA91rPUk1m06VJebUlk8mwoMf36L25G2ae/AQn6veAmeKfbmcu3dMOFxcXHDp0SPV1\nUFBQuVn9z4sj+kTqY0vfAPydcAKRmX+jh0cvvBUwSnVdn1v2FWnp0Apvtnkbdx7cxrILi8rce3Zo\ngy3/uhEdHY2JEydix44d+O233zBx4kRkZWWJHYvIYMkEQT87xVJTc8SOIAmCIGDIjmCEJ4Vh/8ij\naO9S8SY1hiLn8QN0/r098gof4vT4CLhZuVf4uh82X0DUrQz4eNnjw9HttJxSu5ycrMWOUKXqfpZP\nXrqP1Xtj8dpAb3Rr44awy0lIysjDsO5eWkpIJA3q/Cyzpa/njsYdRnhSGPo3GlhpwTekVm3MzXz4\nyV9DXlEe5obNrvR1+jqpUR/Jnung//mPK9gdekecMEQSx6KvxwRBwDfh8wEAn/jNUl1/tsjr61K9\nioRGJUJ2vzNcFc2x9domnE8+W+HrDG3oQx9wyR5R9Vj09djRuMOISDmPQV5D4ePYRnX92SJvSK3a\nAB83tPFyRIjrNADAtEMzoKcjXAaDe/MQqY+z9/VUeEwyPjk5BwDwUcdPytx7dta+vm9F++whQX7e\nLvhhM+BS6Icr2eHYd/tPDPQaLHZMqi1+diOqFlv6empDxD7EFV1CE2N/+Di1LXPP0LquKxq+CPBx\nw4tOU2Ekk2Nu2H9RqCwUMSERkXaw6OupK0abAQBv+XwochLxVTR84eftgnnjh2Jiy0m4mXUDG6/+\nXun3G9JER13Ghj5R9Vj09VBU2iVEZv6NAPfueKVLf7HjiK6qno2PO82AucIc3579GvlF+RUWeEOa\n6KiLOKZPpD4WfT20NHIhAOC99u+LnET6XCxd8YbPW0h8eB//i1pZ6VCAoUx0JCL9xol8eiY+Jw47\nb2yDt31LBHn2FTuOTpjS/gP8dmU1FkZ8hxV+AwGg3FCAocx/0EXPrtMnosqxpa9nfr60DEpBibfb\nTYFMJuN4tBpszezwdtv3kFmQiciCHZUOBfDPUtq49JKoeiz6eiT3cQ5+j/kNLhauGNEsBADHo9X1\nZpu3YGdqh2UXF+FBQXaFr+GfpUQ91dBPysgTLweRDpBE0T9z5gy6dOmCiRMnYuLEiZg7d26Z+6dO\nncKoUaMwZswYLFmyRKSU0rcx9nfkPH6AV1u/ARO5CQCOR6vL2qQe3m3/PrIKsrDi0tIKX8M/S2kT\nAMz6OUzsGESSJpkxfT8/PyxcuLDCe/PmzcOqVavg4uKCCRMmIDg4GE2bNtVyQmkrForxS9QKmBiZ\nYGLLV1XXOR6tvtd8JmPZhUX4+dIyvNX2XVib1KtwYx+SFlVDn737RNWSREu/KnFxcbCxsYGbmxuM\njIzQs2dPnD59WuxYknPk3kHcyr6JES+EwMnCSew4OsnK2Ar/avsusguy8L+olQDYpa8TnlT9vIIi\ncXMQ6QDJFP0bN27grbfewrhx4xAaGqq6npqaCnt7e9XX9vb2SE1NFSOipK2K+hkA8KbPWyIn0W2v\n+0yGjaktll9cjIeFD9mlr0O2HrspdgQiyZNE936jRo3w3nvvYcCAAYiLi8PLL7+MAwcOwMTEROxo\nOuFO9m0cuXcInVz8ym25S8/H2qQe3vD5F747twC/Xv4f3mk3hV36Escle0Tqk0RL38XFBQMHDoRM\nJoOnpyccHR2RnFyyLMrZ2RlpaWmq1yYnJ8PZ2VmsqJL025XVECBgUuvXxY6iFya3eRsWCkssv7gY\nBcoCseMQEdUZSRT93bt3Y9WqVQBKuvPT09Ph4lLSuvLw8EBubi7i4+NRVFSEo0ePIiAgQMy4klKg\nLMCGmLWwN7PH0CbDxY6jF+zM7PFyq1eR9DARW69uEjsOVaOybXi5bp+oPEkU/aCgIJw9exbjx4/H\nO++8gzlz5mDPnj04ePAgAGDOnDmYNm0aXnrpJQwcOBCNGzcWObF0/HTyN6Q/Skeg0wiYKczEjqM3\n3m77HoyNjLH4wo9QFivFjkNEVCckMaZvZWWF5cuXV3rf19cXmzaxxVWRzdfXAQCccoNETqJf3Kzc\nMbr5OPwe8xv23v4DQ5oMEzsSPScB4Gg/0TMk0dKnmrmVdQP3CiPR0Lg9hrTzFTuO3nm3XcmBRUsi\nf2JXMRHpBRZ9HfZ7zFoAwL97vssZ5hrQ1K4Z+jcaiIiU8ziTxJ3epErGs3WJ1Mair6MKlYXYGPs7\nbE1tMchrqOo6D4WpW+88OZ546YWKd4skCWPnDFE5LPo66uDd/UjNT8GoF8aUmcDHHeTqVmfXLujo\n0gn7b+/FjczrYsehCrCdT6Q+Fn0dtenqegDAOO+JZa5zB7m6JZPJ8HbbKRAgYGXUMrHjEBHVCou+\nDkrLT8PBu3+hlYMPfBzblLnn5+1S6XnwVDMDvYbAw6oBNsWuR9ajTLHj6Jxr166hT58+WLeuZKVJ\nYmIiJk2ahAkTJmDSpEka21ZbYP8+UTks+jpo+7XNKCouwtgW41XXOJavOQojBV73+RfyivKwLuY3\nsePolLy8PMydOxf+/v6qaz/++CNGjx6NdevWoW/fvli9enWtnsF5fETqY9HXQZuuboDCSIERzUar\nrnEsX7Ne8p4IC4UlVkWtQFExT3NTl4mJCVauXFlm6+zZs2cjODgYAGBnZ4esrCyx4hEZHBZ9HXMl\n/TKi0i6it2ffMkfocixfs2zN7DC2xXgk5MZj3+0/K3wNe1vKUygUMDMru1OkhYUF5HI5lEol1q9f\njyFDhtTyKRU39bm1AlF5LPo6Ztu1zQCA0c3HlbnOsXzNe93nXwCAVVErKrzP3hb1KZVKTJ8+HV26\ndCnT9U9EmiWJbXhJPWFXEvHrxd9hIbdC34b9xY5jcJrZvYAeHr1wIv4oLqdFo5VjawAlLfzQqES4\n2JsDYG+LOmbOnImGDRvivffeq/V7cbdEIvWxpa9DNkXux4PiFDRV9ODhOiJ540lr/3/RK1XXSlv4\nyRn57G1Rw+7du2FsbIypU6fWyfvl5BfWyfsQGQK29HVIqsXfQDYw1ntc9S8mjejbMBie1g2x9dpG\n/KfLHNia2ala9mzhlxcdHY0FCxYgISEBCoUC+/fvR3p6OkxNTTFxYskeE02aNMGcOXNq/IziYrb0\nidTFoq8DwmOScfzSXYRm74ObpTte86/txCeqKbmRHC+3eg3zwmZj89UNmNz2Hfh5u7B1X4nWrVtj\n7dq1Gn1GcSXd++z1JyqP3fs6IDQqEUfjjuBhUQ6GNR0JIxn/s4lpvPdEmBiZ4NfL/6twPJmz+LVL\nYEufSG2sHjogwMcNeXbhAIBhTUeInIYczR0xpMkwXM+6htD7J8vd5yx+7WLNJ1Ifi74OaN3UGneU\np9GwXiO0c+4gdhyDFx6TDIuUngCAWfu+Ldei554J2lX5drv8NED0LI7p64DD9w4gr+ghhjV9i2eH\nS0BoVCIy4txhY90IVwtO4sDFy2XG9DnGr12cyEekPrb0dcCO69sAAMOajhQ5CQElLfk2Xg7o4xIC\nQabEA9u/xY5k0FjzidTHoi9xuYW5OHR3P5raNkNLh1ZixyH8s/vh10OmwFxhjqNpW1EsFIsdy2BV\nNpGPs/eJymPRl7gjdw/ikfIRhjYZxq59ibExtcWLTUfg7oM7OBl/XOw4BquyJXtEVB6LvsT9cXMX\nAGBwk2EiJ6GKTGw5CQCw9soaUXMYMnbvE6mPRV/C8grzcPDufjS28UIrh9bl7nM9uPg6ufihhb03\n9t3eg/T8dLHjGKTK9t7nZwGi8lj0Jexo3GHkFT3EEK+Ku/a5Hlx8MpkM470norC4EFuubRA7jkHi\n7H0i9bHoS9iayI0AAC959wrvcz24NIS8MA7GRsZYH7OWJ76JgH/kROpj0Zeox8rHCEs5CvNiJyTd\nti9zr7RbHwBPdZMAB3MHDGg8GLEZMYhIOSd2HINT6UQ+fhggKodFX6JCE06iQMhFK4ue6NbGvew9\ndutLzkveLwMA1sdo9nAZKi+oo4fYEYh0Bou+RO29vQcA8Fnwa+Va8uzWl54eHoFwt6yPnTe2I68w\nT+w4BsXZ1rzC65Vvz0tkuCSzDe8333yD8+fPo6ioCP/617/Qr18/1b2goCC4urpCLpcDAL799lu4\nuOhvl3axUIy/bv8JezN7+Ll1KXef27xKj9xIjjEtxuGH899i7+0/MOqFMWJHIiIqRxJFPywsDNev\nX8emTZuQmZmJ4cOHlyn6ALBy5UpYWlqKlFC7IpLPITkvCeNaTIDCSBL/iUgNY1q8hB/Of4sNsb/D\nUxmI0KhEBPi48QMaEUmGJCqKr68v2rRpAwCoV68e8vPzoVQqVS17Q7Pv9p8AgAGNB4uchJ6Hl00T\ndHbzx9/xx+HzMBL37poAAIu+SDirn6g8SYzpy+VyWFhYAAC2bt2KHj16lCv4s2fPxrhx4/Dtt9/q\n/bKo/Xf2wlxhjp4NeokdhZ7TuBYTIEBAtm0o510QkeRIouiXOnToELZu3Yr//ve/Za5PnToVM2fO\nxNq1a3H9+nXs379fpISadyv7Jq5lXkVPj14wV1Q8QYmka0iTF2GuMMfpjD34IKQtW/lEJCmSKfon\nT57E8uXLsXLlSlhbW5e5N2zYMDg4OEChUKBHjx64du2aSCk178CdfQCA4EYDRU5CNWFtUg8DGg/G\nreybOJ98Vuw4RERlSKLo5+Tk4JtvvsGKFStga2tb7t7rr7+Ox48fAwDOnj2LZs2aiRFTK/bfLin6\nfRoFi5yEamp083EAgE1XuS0vEUmLJCby7d27F5mZmfjggw9U1zp37ozmzZujb9++6NGjB8aMGQNT\nU1O0bNkS/fv3FzGt5mQ9ykRY4il0dOkEFwt2C+uqnh694GLhip03tmFet69hKjcVOxIREQCJFP0x\nY8ZgzJjK1zW/8soreOWVV7R2X/vFAAAgAElEQVSYSBxH4g5BKSjR0qI7fth8gcu9dJTcSI6RL4zG\n0gsLceDOXxjS5EWxIxkkPZ/vS1QjkujepxIH75RMUDTO9OE2uzou5IWxAIBt1zaLnISI6B8s+hKh\nLFbiaNwhuFvWx/B23bjcS8e1cmwNb/tWOHR3PzIfZYgdR+81crWu/kVExKIvFeeTzyHjUQZ6N+yH\nzi1deXqeHhjVfAweFz/GHzd3iR1FVNeuXUOfPn2wbt06AEBiYiImTpyI8ePH4/3331dN0q177N8n\nehaLvkQcvlfStd+3IWft64sRTUdBBhl+Cl2F8JhkseOIIi8vD3PnzoW/v7/q2sKFCzF+/HisX78e\nDRs2xNatW0VMSGRYWPQl4uDdAzAxMkE3jx5iR6E6Ut/aAw2M2yGu6BL2XogUO44oTExMsHLlSjg7\nO6uunTlzBr179wYA9OrVC6dPn671cxQK/lVGpA7+pEhAYu59RKddQisbP6zcccNgW4X66EWvUQCA\nPLtwkZOIQ6FQwMzMrMy1/Px8mJiUnEvg4OCA1NTUWj9nXO/ye3ewc5+oPBZ9CTgad7jkF2nenLWv\nZ6YETICxkTHOZuvv1tG1UVfnaDjYmFX/IiJi0ZeCI/cOAQBs8tvBylzBWft6xNbMDr09++JyehRi\nM2IQHpOMHzZfMOjeHAsLCzx69AgAkJycXKbrv6ZkFVzjOn2i8lj0RVZUXITj8UfhYuaBLg1bY0K/\n5py1r2dGNAsBAOy4vgWhUYkG35vTtWtX1aFZBw4cQPfu3UVORGQ4JLEjnyGLSD6P7IIsDG81Eh/1\nbC92HNKAfo0GwEJhie3Xt2Jxh8kAoOrNCY9JRmhUot7uvhgdHY0FCxYgISEBCoUC+/fvx7fffot/\n//vf2LRpE9zd3TFs2LBaP0cmq6itT0TPYtEX2ZG4gwCAIM++IichTbEwtsCAxoOw7fpmmDgk4MPR\nHVX3Slv+APSy6Ldu3Rpr164td3316tUipCEidu+L7Oi9QzA2Mka3+uzi1GfDmo0EAOy4sa3M9QAf\nN+6+SERaw5a+SMJjknHwYgwuZESiq3s3WJlwG1F9FtggCDamtth9YwfmdJ0HI1nJ520/bxe9bOFr\nG3v3idTDlr5IQqMScSL+OAQI6OXZW+w4pGGmclMMbDwY9x8mIDzpjNhx9E7Fs/c5fZ/oWSz6Ignw\ncYPSLgZAyfnrpN/CY5JRfL8dAGDXM138RETawqIvEt8WzkhTXIS9mT18nNqKHYc0LDQqETnxjWEu\ns8HuGzuhLFaKHUnPsH+fSB0c09ey0iVanl55uP8wAcOajlCN75L+Kp2oV2wyAH/d34jVYX8iJ95T\nb5fqSQE794nKY7XRstIlWtsu7wUA9PQIEjkRaYOftws+HN0Ob3QaDwDYErvV4DfpqUucyEekHhZ9\nLStdopVtFgUA6NmA4/mGpKt7NziaO+K28iRaNbbhUj1NYlOfqBwWfS3z83bBeyNb4cqDs2hi2xQe\n1g3EjkRapDBSYGDjocgqTEfnbg/Zta9BRyLixY5AJDks+iKISDmPh4W56OERKHYUEsGLTYcDAHbd\n2CFyEv1RUff+7tA7Ws9BJHUs+iI4GX8MANC9fqCoOUgcpV38f97azVn8dUTG2ftEamHRF8GJ+GOQ\nQYaA+t3EjkIikBvJMaDxEKTlpyI8KUzsOERkQGpc9EvPw6bn87DwIc4nn0Ubp3awM7Pn+eoGakiT\nFwEAf9zcKXISPcGGPpFa1Cr6r7/+erlrL730Up2HMQRnEk+hsLgQ3T16AgDPVzdQAe7dYWdqhz23\ndqNYKBY7js5jzSdST5Wb8+zevRtLlizB/fv3ERgYqLpeWFgIR0dHTWfTSyfijwMAutcvKfqlS7a4\ndMuwGMuN0b/xIGyIXYdzSWfh59ZZ7EhEZACqLPpDhw7FoEGD8Omnn2LKlCmq60ZGRnB2dtZ4OH30\nd8IJmBiZoLObPwCesmbIhjR5ERti1+GPWztZ9Gupss158guKYG7KjUeJSlXbvS+Xy/Hiiy/i3r17\nqn/u3LmD8PBwbeTTK1mPMhGVehEdXX1hYWwhdhwSWXePQFib1MO+W3t4IlytVVz1//dnjJZzEEmb\nWh+Bly5dqvp1YWEhbty4gQ4dOsDf319jwfTR6cRTECAgwL272FFIAkzlpujbMBjbr29BdNolHryk\nAZfvZIgdgUhS1Cr6a9euLfN1eno6vvvuuzoN8uWXX+LixYuQyWSYNWsW2rRpo7p36tQpfP/995DL\n5ejRowfefffdOn22JpUesBPg44bQ9BMAgG71e4iciqRikNdQbL++BX/e2s2iXwuVde8XKTlJkuhp\nNVqy5+DggFu3btVZiPDwcNy9exebNm3C/PnzMX/+/DL3582bh0WLFmHDhg0IDQ3FjRs36uzZmvb0\n7Py/E07CTG6GDi6dxI5FEhHk2QdmcjPsubVb7Ch6qUjJYROip6nV0v/kk08ge+qjdGJiIoyM6m5f\nn9OnT6NPnz4AgCZNmiA7Oxu5ubmwsrJCXFwcbGxs4OZWMru9Z8+eOH36NJo2bVpnz9ek0ln5rZub\n4qvQaHSr3wNmCjORU5FUWBpbopdnH+y7vQfXMq7iBfvmYkciIj2mVtHv2rWr6tcymQxWVlYICAio\nsxBpaWlo1aqV6mt7e3ukpqbCysoKqampsLe3L3MvLi6uzp6taaWz8/fcLGnJBdTneD6VNchrCPbd\n3oO9t/9g0a8hHq1LpB61muvDhw9Hq1atYGpqClNTU3h5ecHc3FxjofRxJnPo/ZLx/ACO59Mz+jXs\nD7lMjr9u/yl2FJ1V1d77yRl5evl3ClFNqFX0FyxYgPfeew+HDx/GgQMHMHnyZPz44491FsLZ2Rlp\naWmqr1NSUuDk5FThveTkZJ3cI+BUQijMFebo4NxR7CgkMbZmduhavzsiUs4jMfe+2HH0zsyfw3A2\nNkXsGESSoFbRP3PmDP7880989913+OGHH7B3716cOHGizkIEBARg//79AIDLly/D2dkZVlZWAAAP\nDw/k5uYiPj4eRUVFOHr0aJ0OLWhDxqN0xGRcRicXP5jITcSOQxI0sPFgAMC+O2zt10g13fuXbqZr\nJweRxKk1pu/o6AiF4p+XGhsbo379+nUWokOHDmjVqhXGjh0LmUyG2bNnY/v27bC2tkbfvn0xZ84c\nTJs2DQAwcOBANG7cuM6erQ1h908DAPzddevDCmlP/0YDMfPkx9h3aw9ea/2m2HE06uHDh5gxYway\ns7NRWFiId999F927126uS3VD+spidu8TAWoWfTs7O4wcORJdunSBIAg4e/YsGjRogJ9++gkA8P77\n79c6yMcff1zm6xYtWqh+7evri02bNtX6GWI5ff9vACz6VLn61h5o59QeofdPIutRJmzN7MSOpDE7\nduxA48aNMW3aNCQnJ+OVV17BX3/9pdFnKrlenwiAmt37DRo0QFBQECwsLGBpaYnAwEA0adIEcrkc\ncrlc0xl13unEUzAxMuH6fKrSgMaDUVRchMP3DoodRaPs7OyQlZUFAHjw4AHs7Gr/AUdWzfR9rtcn\nKqFWS9/KygqTJk0qc23hwoWYOnWqJjLplQcF2YhOuwQ/1y4wV2huxQPpvv6NB+Gr8Ln46/ZejHxh\ntNhxNGbQoEHYvn07+vbtiwcPHmDFihUafya794lKVFn0w8LCEBYWht27dyM7O1t1vaioCNu3b2fR\nV8OZxNMoForh7961+heTQWth742G9Rrh8L2DKFAWwFRuKnYkjdi1axfc3d2xatUqxMbGYtasWdi+\nfbtGn8nteIlKVNm97+XlhSZNmgCAqitfLpfDzMwM33//vVYC6rrTiacAAP7u3UROQlInk8nQv/Eg\n5BbmIDThpNhxNCYiIgLdupX8PLRo0QIpKSlQKpUafSbX6ROVqLKl7+zsjCFDhqBDhw51OlvfkITd\nPwW5TI5Orn5iRyEdMKDRIKy4uAR/3f4TQZ59xI6jEQ0bNsTFixcRHByMhIQEWFpaanxuEGs+UQm1\nxvTHjx9f4USZY8eO1XUevZJflI+LqZHwcWwDK2MrseOQDvBz6wJrhS22xezGSKcZ6NzSVexIdW7M\nmDGYNWsWJkyYgKKiIsyZM0fjzyxm1ScCoGbRX79+verXhYWFOH36NAoKCjQWSl9EJp9HYXEhOnM8\nn6rw9PHLft4uaCjvjOii/dh24Tg6txwjdrw6Z2lpqVruW5c+CGmLH7dcrPAeaz5RCbWW7NWvX1/1\nT6NGjTBu3DicPKm/Y451JezJeH5nV3+Rk5CUPX38MgAMbjoIAFBge0nMWDqnTRMHGCsq/iuNY/pE\nJdRq6Z8+fbrM10lJSbh3755GAumTM4klf26d3Vj0qXKlxy+X/vtN/xH4LmYaonPrbqtrQ1FcydI8\nrtgjKqFW0V+6dKlqTL/0aN3PP/9co8F0nbJYibNJ4Whq2wxOFk7lunCJSpUev1zK2qQeAup3x7G4\nI7ifmwB3K06iVVdlDXq29IlKVNu9f/r0aSiVSly6dAlRUVGQyWR444030LUrx6mrciU9GrmFOapW\n/rNduERVCW40AACw/84+kZPolsqKO2s+UYkqi/7evXsxf/58vPnmmzhy5AgOHz6MV199FZ9//jmO\nHDmirYw6qbRrPyuuPsJjkhHg4wYfL3tVFy7Rs8JjkvHD5gsIj0lGvydF/wCL/nOprLazpU9Uosru\n/TVr1mDlypVwc/unUPXs2RPe3t54//33ERQUpPGAuio8KQwAkJfoidCoRHw4uh279alKpb1BAPCh\ndzs0smyBY/eO4XjULfT08RI5nW7jmD5RiSpb+jKZrEzBL+Xs7MxPztUITzwDW2MHdG7Ukq17Usuz\nvUHuxb5QohAbL/wpcjLd4WxX8fkWQqV9AESGpcqi/+jRo0rv5eXl1XkYfRGfE4f7DxPQ1aMrPhrT\nni18Uouft0uZHqHh3kMAADlWFa89p/I+HtOu4hus+UQAqin63t7eWLt2bbnrv/zyCzp06KCxULqu\ntGvf17WzyElIl03w6wsHMwdczD6BYoEHxqjD0ZYnWRJVpcox/enTp+Odd97Bnj174OPjA0EQEBkZ\nCSsrK60ch6mrwhNLir6fG4s+1ZzcSI7eDfth89UNiEq9iLbO7cWOREQ6rsqib29vj40bNyI0NBRX\nrlyBhYUFBgwYgE6dOmkrn04KTzoDU7kp2jhV0tVIpKZ+Dftj89UNOHD3LxZ9Iqo1tTbnCQgIQEBA\ngKaz6IXcxzm4kh4NX9fOenseOmlPYIMgKIwUOHjnL3ziO1PsOESk49Tae5/Udz75HIqFYsiyGiE8\nJlnsOKTj6pnaoItbV1xIjURyHv9/IqLaYdGvY+eSwwEARemNuPse1Yk+DYMBAEfvHRI5ie7i5H2i\nEiz6dexcUknR7+rRhevzqU70fVL0N0XtUu3YR0RUE2qN6ZN6ioVinE8+i4b1GuGzsb3EjkN6oqlt\nM3jWa4RzaSdhk50CANz7gYhqhC39OnQz6wayCrLQycVP7CikR2QyGfo27IcC4SFsPRLYg1QD3EGU\nqASLfh0q7drv5MqiT3WrtIvf1usmW/k1lJtfiHvJOWLHIBIVi34dKp3E58uiT3Wsq3t3mCvMceTe\nQbGj6KxZP4dhzuqzyM0vFDsKkWg4pl+HziadgYXCAi0dWosdhfRIeEwyQqMS0aqeH85lHMeeyEhc\nvy5DgI8bW/3PobTYP8wvhJW5schpiMTBln4deVCQjasZsWjn3AEKI36WorpTeuSufUHJjnybL+1G\n1K0MLgkloucmenUqKirCp59+inv37kGpVGL69Onltvlt1apVmQN+1qxZA7lcru2oVYpMiYAAAR1d\nfMWOQnqmdOJek6ZDcCDsR2SZX0Qvrxc5oa+Gtp24hZeDm7O1TwZJ9KK/a9cumJubY8OGDbh+/Tpm\nzpyJrVu3lnmNlZVVhaf9SUlE8jkAYNGnOufn7aLqxm8S2xSXsk5jy+ve3Oa5hs7FpuBcbAr+9+8g\nsaMQaZ3o3ftDhw7FzJkle4rb29sjKytL5EQ1cz75LACgowsPIyLN6ePZD3lFD3Em8bTYUXRKMVfs\nEQGQQNE3NjaGqWlJi+XXX3/F4MGDy73m8ePHmDZtGsaOHYvVq1drO2K1BEFARMo51LfygIulq9hx\nSI8FefYFABy6e0DkJLqF6/SJSmi1e3/Lli3YsmVLmWtTpkxB9+7d8fvvv+Py5ctYvnx5ue+bPn06\nhg4dCplMhgkTJqBTp07w8fHRVuxq3cu5i7T8NAxtMlzsKKTn/N0DYK4wL9mHP+BLsePU2O7du/HL\nL79AoVBg6tSpCAwM1OjzitnUJwKg5aIfEhKCkJCQcte3bNmCI0eOYOnSpTA2Lj+5Zty4capfd+nS\nBdeuXZNE0S9dSlXkXDKe74jm+GHzBS6lIo0xU5ghwL07Dt07gPicOHhYNxA70nPLzMzEkiVLsG3b\nNuTl5WHRokUaL/ps6ROVEL17Py4uDhs3bsTixYtV3fxPu3XrFqZNmwZBEFBUVISIiAg0a9ZMhKTl\nlS6lOnrrFACgMK0Bl1KRxgV59gEAHI07LHKSmjl9+jT8/f1hZWUFZ2dnzJ07V+PPVLKlTwRAArP3\nt2zZgqysLEyePFl1bdWqVVizZg18fX3Rvn17uLq6YtSoUTAyMkJQUBDatGkjYuJ/lC6ZisqNhRHk\n8HFqg0xjgUupSKNKi/7huwcxseUkccPUQHx8PB49eoS33noLDx48wJQpU+Dv76/RZ2blPtbo+xPp\nCpmgp/1eqana2WP7sfIxGq5wg5WyAd5xWYMPR7fTynPJsPmta4u0/DRcfe0OjOW1W2/u5GRdR6nU\n8/PPPyMiIgKLFy/G/fv38fLLL+Po0aOQyWQVvv55f5Zf+/qIWq/jkj3SN+r8LIveva/rrqRHQ4lC\neFn6sIVPWhPk2Qe5hTk4m3RG7CjPzcHBAe3bt4dCoYCnpycsLS2RkZEhdiwig8CiX0sRKecBAJP8\ngzl5j7Smlw6P63fr1g1hYWEoLi5GZmYm8vLyYGdnJ3YsIoPAol9LF1IiAADtXTqKnIQMSUD97jA2\nMtbJou/i4oLg4GCMHj0ab775Jj777DMYGfGvIiJtEH0in66LTD4PS2MrNLN9QewoZECsjK3g59oF\nofdPIjUvFU4WTmJHei5jx47F2LFjNfLe3Xzc8HdUIlzszJGcma+RZxDpKn68roXcxzm4lnkV7Zza\nQ24krQOASL+FxyTDOMsbAHA8Xr2Ja4bi1YEtsOTDHrCvZyZ2FCLJYdGvgfCYZPyw+QI2njsKAQK7\n9knrQqMSoUxpAQA4ek/3uvg1SSaTwdxUAXcHS7GjEEkOu/droHRTnod5fwMA2juz6JN2Bfi4QRA6\nICrHEcfijqBYKIaRjJ/hnzYy0AtujhZYd+Ca2FGIJIN/S9RAgI8bfLzsUWB5GwDQ3rmDyInI0Ph5\nu+CjMR3Qt1EfpOan4HJ6tNiRJMfMRIGgDh5ixyCSFBb9GvDzdsGHo9vhXv4VOJo7ob4V/2IhcQQ2\nKNlg5njcUZGTEJEuYNGvodS8VMTnxqG9c4dKdxIj0rQeDXoBAI7FcTIfEVWPRb+GLqVGAgDaOrUX\nOQkZMhcLF7Ry8MGZxFPIK8wTOw4RSRyLfg1Flm7Kw/F8EllggyAUKAsQlnhK7ChEJHEs+jV08UlL\nv40zW/okrtJxfXbxE1F1WPRr6EJKJNwt68PFgvvtk7g6u/nDTG6G4yz6FerTkRNtiUqx6NdAYu59\nJOcloS1b+SQBZgoz+LsHICbjCpIeJoodR3J8mjiIHYFIMlj0a+DCk659jueTVPTk0j0iUgOLfg1c\nfDKJjzP3SSp6epQs3Tsez6L/LEEQOwGRdLDo10BpS7+NUzuRkxCVaOnQCk7mzjgRfwwCq1wZ/PMg\n+geL/nMSBAGXUi+ggbUnHMw5VkjSIJPJ0MMjECl5yYjJuCJ2HCKSKBb955T48D7S8tPYyidJKD3x\nMTwmGT2f7M53gl38ZbCdT/QPFv3ndDH1AgCgLYs+SUDpiY+hUYmqcf014bsQHpMscjLpUxYXix2B\nSOtY9J/TRY7nk4SUnvgY4OMGNyt3OMob4e7jCzhx6Z7Y0aSjkqZ+WtYj7eYgkgCF2AF0TVTqRQAs\n+iQNft4u8PP+Z4Oorm49sTv+V9h7JomYSlqESqq+zIgHZZHhYUv/OV1MvYD6Vh5wNHcUOwpROaPb\nDAQApBhdEDmJ9P17+WmxIxBpHYv+c9h34RJS8pLRwMxb7ChEFerq3g1ymRzH44+JHUU6OJOPSIVF\n/zn8EXUSAGCS5ylyEqKKWZlYo4NLJ0SmnMeDgmyx40iCV30bsSMQSQaL/nMwcSjZ17xX0y4iJyEq\n6+mlez08AlEsFCP0/t9ix5IEG0sTsSMQSQaL/nPIwA0AwKgOgeIGIXpGRUv3uF6fiJ4l+uz97du3\n46effoKnZ0mXedeuXfH222+Xec3u3bvx66+/wsjICKNHj0ZISIgYURGVdgkuFq48TpckJ8DHTfXv\ndi52cLV0Q87jHJFTSV9hkRLGCrnYMYi0RvSiDwADBw7EjBkzKryXl5eHJUuWYOvWrTA2NsaoUaPQ\nt29f2NraajVjen46EnLj0cezn1afS6SOZ5fuhY47CxO5qYiJqvfo0SMMHjwY77zzDkaMGCFKhi3H\nbmJ8nxdEeTaRGCTfvX/x4kX4+PjA2toaZmZm6NChAyIiIrSeIyqtdH1+W60/m+h5WZvUg6nEi/6y\nZctgYyPuJLsb8ZzsSIZFEkU/PDwcr7/+Ol555RVcuVL2sJC0tDTY29urvra3t0dqaqq2IyIq7RIA\noLUjiz5J39MT+6To5s2buHHjBgIDA0XNIeP+PGRgtNq9v2XLFmzZsqXMtUGDBmHKlCkIDAxEZGQk\nZsyYgT/++KPS9xDrmMyoJ3vu+zi1EeX5RM+jdGIfgDLd/lKxYMEC/Oc//8HOnTtFzXE7MQdX72Wi\nuaedqDmItEWrRT8kJKTKSXjt27dHRkYGlEol5PKSyTXOzs5IS0tTvSYlJQXt2ml/C9yotEuwMbWF\np3VDrT+b6Hk9PbFPanbu3Il27dqhQYMGYkcBACxYH4n//TtI7BhEWiH6RL6VK1fCzc0NgwcPxrVr\n12Bvb68q+ADQtm1bfPbZZ3jw4AHkcjkiIiIwa9YsrWbMfZyDm1k30K1+D8jYH0g64NmJfVJy7Ngx\nxMXF4dixY0hKSoKJiQlcXV3RtWtXjT/bz9sZ4TEpGn8OkVSJXvSHDBmCTz75BBs3bkRRURHmz58P\nAPj555/h6+uL9u3bY9q0aXj99dchk8nw7rvvwtraWqsZo9OjAQA+HM8nqrUff/xR9etFixahfv36\nGi/4ge3ccezCfYwJagZlsYDzV8vOCxIEgR/oySCIXvRdXV2xdu3actcnT56s+nX//v3Rv39/bcYq\nI/rJyXqtHX1Ey0BENfdy/xYY16cZjBVyVDQt6HFhMUxNuF6f9J/oRV8XRKdFAQB8uFyPqE5NmTJF\na88q3YSnuLh81S8qLoYpWPRJ/0liyZ7URadHwVRuiqa2zcSOQkS1VFxBU19ZwQcBIn3Eol+NQmUh\nYtOvwNu+JRRG7Bgh0nUVde9X1Pon0kcs+tW4lnkVj4sfo7Uj1+cT6YOKWvos+mQoWPSrEV26Ex83\n5SHSCxUVeBZ9MhQs+tWITi+ZxNfagUWfSB9UtKunUqSdPom0jUW/GpfToiCDDC0dWoodhYjqQEWN\n+vyCIiRn5mk/DJGWsehXQRAERKddQmMbL1iZaHdDICLSjIrG9L9Ycw4zV4QhM6dAhERE2sOiX4WE\n3HhkFWRxEh+RHhGqGL+ftiQU52K5TS/pLxb9KpRuytPKobXISYiorlTU0n/a0p3RePS4SEtpiLSL\nRb8Kl59M4mvl2Fry55MTkXrUmaj/5+m7mg9CJAIW/SpcTis5aKeVg4/qfPLQqESRUxFRbVTVvV/q\nwcPHWkhCpH3cYq4KV9KjYWtqC3er+gjwMQYgzfPJiUh91XXvAwAP3CN9xaJfiYeFD3E7+xa6uneD\nTCaT9PnkRKQ+9fbhYdUn/cTu/UrEpF+GAAEtHVqJHYWI6lBFm/M8y4g1n/QUi34lLqc/Gc939BE5\nCRHVJbW23GX/PukpFv1KXH6yXA857py1T6RH1BrT10IOIjFwTL8S4fEXIIMcl6NMkZiaAQAc0yfS\nA8XFaryIVZ/0FIt+BYqFYtx4EANLpTsUMmP4eFlx1j6RnhDAlj4ZLhb9CsTl3MNjIQ9NzP0xyL8R\nW/hEeuTpMf1eHerjaERCudfIWPZJT3FMvwJX0i8DAEa078aCT6RnSmt+j7bumNiveYWvORwRj/tp\nD7WYikg7WPQrcOXJzH0u1yPSP6VteHk16/JW7rmi+TBEWsaiX4GY9JIf9pY8aIdI70wZ2QbNPGww\nuGsjAIBRJcvzlEp1ZvwR6RYW/QpcSY+GzZPtd4lIv3i518PMCR1hZ20KAGjsZl3h6+JT2b1P+odF\n/xn5Rfm4lX0T3vYtIeMGHUR676V+L1R678TF+1pMQqR5LPrPuJYRi2KhmOP5RAbCwsy40ntr9sVq\nMQmR5rHoP6N05j7H84k055tvvsGYMWMwcuRIHDhwQNQs1e2zfz/tIVbsvozc/ELtBCLSIK7TfwZn\n7hNpVlhYGK5fv45NmzYhMzMTw4cPR79+/UTLU9lEvlKLtl1CcmY+bK1MMCaomZZSEWmG6EV/2bJl\nOHXqFACguLgYaWlp2L9/v+p+fHw8hgwZgtatS1rednZ2WLhwocbylLb0W9h7a+wZRIbM19cXbdq0\nAQDUq1cP+fn5UCqVkMvlouQxqqapn5yZDwAoKORsftJ9ohf9t99+G2+//TYAYMeOHUhPTy/3msaN\nG2Pt2rVayROTcRme9RrByqTiGb1EVDtyuRwWFhYAgK1bt6JHjx6iFXwA6k/YVeOgHiKpk8yYflFR\nETZs2IAJEyaIliElL5nAa+MAAB9xSURBVAVp+WkwfeTBU/WINOzQoUPYunUr/vvf/4qao7ox/VIs\n+aQPJFP0Dxw4gG7dusHMzKzcvbS0NEydOhVjx47F7t27NZYhNqNkUx4hxw2hUYkaew6RoTt58iSW\nL1+OlStXwtpa3F616rr3Sx2/cB+J6Vy7T7pNq937W7ZswZYtW8pcmzJlCrp3745t27bh888/L/c9\ntra2eP/99zF06FDk5OQgJCQEXbp0gbOzc53ni3kynt/KsSVP1SPSkJycHHzzzTdYs2YNbG1txY7z\nXEfr/HdVOFZO76WxLESaptWiHxISgpCQkHLX8/LykJSUBA8Pj3L3rKysMHLkSACAvb09WrdujVu3\nbmmk6MdmxAAApg0aiBb2PGiHSBP27t2LzMxMfPDBB6prCxYsgLu7u4ip1KMsZic/6TbRJ/IBQGxs\nLLy8vCq8FxYWhqNHj2LmzJnIy8tDbGwsGjdurJEcMemXYWxkjCY2TTXy/kQEjBkzBmPGjBE7hsrT\nE/k6vuCE89dSRUxDpFmSGNNPTU2Fvb19mWvz589HXFwcOnXqhOzsbIwZMwYvv/wyJk+eDBeXum+F\nFwvFiM2IRVPbF2Asr3yHLiLSL+amCowKbIJpY9qhSX0bseMQaZQkWvrBwcEIDg4uc+3TTz9V/frr\nr7/WeIa4nHvIK3oIb4eWGn8WEUnLwC4NAQC3Ex+InIRIsyTR0peC0uN0ve1Z9IkMVZEax+kKXK9P\nOoxF/4nS5Xps6RMZrjZNHKt9TWr2Iy0kIdIMFv0nYlTb77LoExkqL/d6+HFKNzR2q1fpax4+dfDO\n3aQcZDzghwDSHSz6T8RmxMDS2AoNrD3FjkJEIqpnaYL/vNKp0vt3k3IAlHTzf77mLD5eekpb0Yhq\njUUfQKGyENczr8NG8MTZ2BSx4xCRhP115h4Artkn3cSiD+BW9k0UCYWQ53H7XSorIuIcPvtsep2+\n540b13Hv3l0AwHvvTcatWzdq/F5r165BdPSluopGFZg5oUOZr328HAAAhUU8dY90jySW7Int6pOd\n+F6w8+b2u6Rxx48fQYsWLeHp2bDW7zVx4qTaB6IKLXy/O4oFAfUsTMpcFyAgM6cAu0Nvi5SMqOZY\n9AHEPJm5P7lXb/h5cvtdKisvLx9ffPEf3LhxDYGBvXHuXDiWLv0FAPDrr6tgYWGJ48ePwNu7FWJj\nr6CgoABffPEVXF3dsHTpT4iKuoiiIiVGjhyNZs2aY9eu7Th+/Ajs7OwAAEeOHMJPP32H7OxsfP31\n93B1dcWKFUtw6dIFFBcrMWLEaPTt2x/h4WFYuXIpTE3NYGdnj9mz52HBgnkIDOyNJk2aYe7c/8DI\nyAhKpRL//e9cuLryA2xtWJlXvElXYVExvlp3HmmcxU86iEUfwNWMWABAC3tvkZNQVeac+gx/3NxZ\np+85pMkwzOk6r8rX3LlzC+vXb0NxcTFGjx4KNzd3pKQkw9nZBadO/Y2vvvoWx48fQb16Nli0aAW2\nbt2IzZvXo0ePXrh16yaWLfsf8vPz8corY7FmzXp07uyPwMDeaNmyNQDAzs4OP/20DMuXL8aJE0fQ\nvLk3kpOTsGTJSjx+/BivvTYBPXoEYtu2TXjvvQ/Rtm17HD9+BNnZWaqMx44dgq9vZ0ya9AauXo1F\nWloai76GnLxUfghQEIQy2/kSSRWLPkrW6NuY2sLVkn9JUnnNm7dQHfksCAL69RuII0cOok+fYFha\nWsHevmSM19fXDwDQunUbhIWdQmzsFbRrVzIebG5ujkaNvBAXF1fu/du0aQcAcHJyQnZ2NqKiLuLy\n5Si8997kJ88sRlpaGnr16oP/+7+v0K9ff/TpEwwHh3/WlPv5dcGsWZ8gJycHvXr1RuvWbTT3B0Ll\nKIsFKOQs+iR9Bl/0HxU9wu3sW+jo4stP6hI3p+u8alvlmiCXy8t83adPMD77bDrMzMzRt+8/20cX\nF5dM7Cpt9clkMjy9eVtRUWGFZ7c//f6CIMDY2BiDB7+IiRNfLfO6+vU90LmzP06cOIYZMz7EvHnf\nqO55eTXFmjUbEB4ehuXLF2PQoKEYMGBwrX7fpL7rcVnwbmRf/QuJRGbws/d3RoZBKShhb9RI7Cik\nI+zs7FCvXj3s378XPXv+c7b6xYsXAADR0VFo1MgLLVq0QmTkeQAlx0cnJMTDw8MTMpkM/9/evcdF\nVed/HH/NhfsddwAFr2jghRTyjje8l+mqG/7UH+vPzdVUNP3ZpuRa1mPVzDDb1d0tU6u1LU2zrNbQ\n7ZeUJl5ZUfEWIqByEZD7fWbO7w/WUeQibgODzuf5j845M4f3nOGcD+c73/P9GgyGerffrVsPfvzx\nEEajkYqKCjZsqC7uH3ywBY1Gyy9/OZkRI0aTkpJses233+4nOTmJIUOGMXv2fC5dutAUb91qTRzU\nkSlh9c+++eaO0ySn1xy3X28wYpQhe0ULY/VX+t9eOAGAoUA68InGGzZsBD/+eAhHRyfTsqysTJYs\nWUhxcRGrV69Dp/MiICCQyMjZ6PV65s5dgIODAz17BvP222/i6OhY57aDgnoSHPwEzz33G0Bh0qRw\nALy9fVi8eD4uLq64uLgwdWoEhw//AEDbtu2Jjl6Dg4MjarWaxYtfbPJ9YE0mDKqezjsls5DjF+oe\ny2PV304SMfoxPv0uCb1BwagodGzt2uBAP0I0N5XyiM4ekZ1d1KjnRX69lF1p77Cm13Z+O/CXTZxK\nPCpWrVrJU0+NJySk+oS+YMEclixZSqdO9V8NtlQ6nYulIzSoscdyc/jpej6vfxT/QK/RuduzenZ/\ntBqrb1gVTawxx7LV/xYWaao7Vk3oNcDCScTDoKKigjlzZuLk5GQq+MJ62NnU7N8xbsD9x1rIzi8n\nv7iiqSIJ8UCsvnn/0q0LeNp7onPQWTqKeAjY2dmxefMHtZZv2rS5+cOIZudgV/OUqW5k59/k9ELU\nKhWervZNEUuIRrPqK/0yfRmphSk85hEoPfeFEPelc3fg+V/duR1yxBN++Pu63veK/529ifzuL0d4\ndu13HDuf1dQxhaiXVV/pX8lPwqgYCZBBeYQQjdSryy+YENqBDq1dcXWy5fe/rv6a53RSDjeyS+77\n+ne/TORmXilP9m9Pek4JR85lMiWsc523cwphblZd9G+PuR/gEWDhJEKIh8nEwZ1qLfvf8J68+Ncj\nNKZr9OeHrvL5oTtj93fxc+OJAC9zRhSiTlZd9C/nVQ+/+5hnoIWTCCEedp6u9mxdNpz84gq2/uMC\niVdvNfq1f/78HACv/qYPuQXlHD6bgZ/OmUtpeSwK74mDnZbCkkr2H09jbL92uNwzCZAQjWXVt+zN\n/Oa/2Xf1K87O/AlvR7lPXzSt7ds/IDg4xCxD5J4+HU/79h3w8Pj5o8DJLXvmpzcY+ejAZY5fyKK8\nsv6BmBrLRquuMZXvwB4+jOnbjnNXcxnbtx0Go0JKRhGd/dzuuy1FqR5DQKNu3i5dh86k07qVE519\n75/xYZKRW4KNRs0v3B3Msr3MW6V4ezj8R/3MGnMsW3XRH/BxCLllOVx6NlU68omHyurVrzJtWoRZ\nxgWQot90FEVh1hsHAfBv40pKZhG/HhPAB99cNNvP6N6herbGxJQ8oPqrAn9fN27mlfGroZ1wtLdB\nrYKcgnLa/MKJj/Zf4sdzmWxaPARH+5qNvaXlVaRmFhHY3oP03FJe2XIMBVg3bwAZuaUEtHXH1kbD\n0fOZpGQUUVRa+e/hphVmPhmIUYHv4q/j7GBDaFBrKioNVBmMlFfoiXr3KACzx3fjva/O8/sZT+Df\nxg2jUeF86i26dfBs9N0QiqJQUFJJ/OVsQnu05si5DA6cuEbkpCByCsspLq2iymDEw9kOnYcDiVdv\n8c3RVALaufNfw7vg5mSLUVHQatTcyCnhTFIOTwTo2BV7hbF92+HvW53rVmE5nq72ZOWV8t5X5/H3\ndcPRTsv40A5oNWrKKvREbqgeIGtb1HDyiip4/5sLpGQUMWdCN3w8HDEqCuWVBtyd7dAbjBiMCnY2\nGmy0auxsNLz+0Sm6dvDkMT83cgrL+VvMJXx1TrTzcsbH05FxAzs0er9I0W/Aj4lpTP7+cbq6hRD7\n3981UyrxsNm37yuOHj1CTk42r722hh07PuL8+UQqKyuZOPFXBAc/wYYNb7J+/Z84ezaBF19cxL59\n32E0GvnNb6azffunpm2tXv0qw4aNoKAgnzNnTpOfn0daWirTp/+ap5+eyDPPjOfJJ5/m1KkT2NjY\nsGrVOg4diiU5+QoLFiymtLSUGTP+i2XLfs/LL0fh59eOVavWsWPHdi5evIDBYGDSpGd46qnxD/Qe\npeg3rVuF5Wi1alzvapLffzyNpBsF2NloOHIu04LpHpytjZrKKuP9n/gfbGv6yC58/O1PNZ4TOSmI\nzw8lk55T3UnSyV5LSbneLD9f525Pdn7tKZL7BHpx4mLdIy/WZ3F4T97elWCWXPdq3cqROeO7096n\n4WO1Mcey1X6n/3XCCRSM2FbIzHqiYVlZmbzzzjYqKyvx8WnDwoVLqKgoZ8qUiezdG0N2dhaKonD2\nbAJdugRw9WoyVVWVdO3avd5tXrmSxDvvbOP69WusXLmcp5+eCED79h2YNes5Nm7cwDfffI2zs3Ot\n1/bp05/OnR9jyZKlODo6cOTIYT79dC96vZ59+75qsv1gTmvWrCEhIQGVSsXy5ct5/PFHd1bAuu7N\nH9O3HWOovmK9XfRnjevKT9fzCQ/rzD+OpBJzPA1vT0eybpU2c+KGmavg17Wtews+wJ8/P1vjsbkK\nPlBnwQceuOADTVbwATJyS/nmWCpzf9njZ2/Laou+Z5t8yIc+fo/uycZaHb+QxY9nMwgNak3frj+/\nr0bXrt1QqVTY2dlRWFjA3LnPotVqyc+vbk7t1Kkz166lcv58IpMmhXPu3BkqKioIDn6i3m326PE4\nGo0Gnc6LkpJi0/Levfv9e30Qp06dpFu3+v9wAHB1daNt2/ZERS0hLGwkY8eO+9nvt6kdP36c1NRU\ndu7cyZUrV1i+fDk7d+60dCyLUKlUvLd0GHpDdZNvaFD1Rcgzw/wZGtwGb4/q+Rn+eeIan/zfTzzu\n34rxAztQUWVg//Fr/M/YALb+4wJpWUWUlOtRq1TY2qjRuTtw7Wb171V7HxdSMx/u1pKHWX2tCQ/C\nw8WOyUP9zZLHaot+cEc/bC/aMi3kKUtHEWb249kMziZX95w2R9HXam0A+Ne/ThEff5JNmzaj1WoZ\nNWowAMHBT5CYeI6KinJCQnrzl7/8kbKyMhYsWFzvNu+dTvfO/29Pz4tpet7b9Pq6r3DWr/8Tly5d\n5J//jCEm5h9s2PDn//zNNoO4uDhGjhwJgL+/PwUFBRQXF9fZqmENNGo19w7Lr1arTAUfYFSftozq\n07bGc7r9eyrfF6cFA2BUlBrf/RaUVFJWocfH05HUzCLUahW+OieKSqtwtNNSVqk3feVQUWlgw6en\nGdKrDQN7tCavqAJHey3ZeWUkZxQScyyN0X3b0jfQi0q9kQspefyQkM6MsQF4eThw5UYhFVUGWrna\ns2LLMdr8womZYwNxtNdiNCqgAo1aRVpWMf26eVNRZSA5vZBLaXmUlOmZNrILqCAhKQcvD0c2fnaG\ntl7ODO3Vhrd2JjAlrDM6dwfcnW0przLgbG+Dg70WG42aj/95GX9fNzr7uaEoCp193fg6LpUuvm4E\ntHPn9E85ODnYcOxCFuMHdsDJXktqVjGZuaXEJWby/K8eR6NR8d2p62Tnl9OtowcXU/MpKKnA3laD\nj6cTJeVVdPZ1w9Fey7qP/8XkIZ0Y0MMHBzstJy7cxNFei95gJPHqLUKDWps6VN79eVTpDdhoq4/7\nxJRbXLlRwLBgXxxstcQlZpJ1qxQbrZovf0xh9vhuFBRX4u5sS//uPmb6TatmtUV/ZPsxXJ2dgY3G\nxtJRhJndvlq6/a+5FBTk4+XljVar5fDh7zEYjFRVVREcHML69evo2LET7u7u5OfnU1ZWirf3gx+s\nCQn/YtiwESQmnqFDh444OjqRm5sDwJkzp03PU6vVGAwGMjLSOXz4B8LDpxIQEMizz0aY7f02lZyc\nHLp3v9OC4enpSXZ2ttUWfXO5t7OXm5Mtbk7VRf3u74JvL7PR3uljYGerISriTsuUh4sdAH5ezvh5\nOTOkZxvTOkdgQA8fBvS48/v9WFt30/+3Lgurt2N061bVs1La2Wjo2t6Dru09aqwP7lI9HPra5+7M\nhbItanh9bxmAyMlBtZaNH9jhzjYf09XK2NnXjc6+bgx6/M45YnTfdrVy1OW9pWE1Ht+9jYYuMm4X\nfIDuHTzp3uHOnTd379+6xoAwJ6sehlcK/qOpb1dv/ndKL7Nc5d+td+9+XL+exoIFc7hx4zoDBw4i\nOvp12rXrQEpKMj16VJ98XFxc8PNre5+t1e3SpYssWjSPpKQknnxyHL179yEtLZUFC+aQlpaCSlV9\nyPbqFcKKFcsoLi7m3LkE5s59loULn2PcuAlme7/N5RHtS2y15E6ols1qe+8L0dI888x4/va3nTg6\nOt7/yWbU3L33N27ciE6nY+rUqQCMGDGCvXv31nulL8eyEI3TIqfWPX78OAMGDODgwYOmZRcvXmTq\n1KlMnTqVlStX1npNVVUVL7zwAtOmTSMiIoJr1641Z2QhhBmFhoayf/9+ABITE/Hy8pKmfSGaSbMW\n/bS0NN5//31CQkJqLF+9ejXLly9nx44dFBcX8/3339dY//XXX+Pq6sonn3zC3LlzWb9+fXPGFqJZ\n7N79VbNf5VtCSEgI3bt3Z+rUqaxatarOP/SFEE2jWYu+Tqdj06ZNuLjcaYKorKzkxo0bpvt0w8LC\niIuLq/G6uLg4Ro0aBcDAgQOJj49vvtBCCLP73e9+x44dO/jkk08IDJS5L4RoLs1a9B0cHGrcqgSQ\nl5eHq6ur6XGrVq3Izs6u8ZycnBw8Pat7OqrValQqFZWVlU0fWAghhHiENNkte7t27WLXrl01li1c\nuJDBgwc3+LrG9Ct8RPseCiGEEE2qyYp+eHg44eHh932ep6cn+fn5psdZWVl4edWcV9rLy4vs7GwC\nAwOpqqpCURRsbWVqSSGEEOJBWPw+fRsbGzp16sTJkycBOHDgQK3WgNDQUGJiYgA4ePAg/fr1a/ac\nQgghxMOuWe/Tj42NZevWrSQnJ+Pp6YlOp2Pbtm0kJSXxyiuvYDQa6dmzJy+99BIA8+bN469//SsG\ng4EVK1aQkpKCra0ta9eupXXrhkdbk3t7hWgcmWVPiEeDTK0rhLgvKfpCPBpa5OA8QgghhLCMR/ZK\nXwghhBA1yZW+EEIIYSWk6AshhBBWQoq+EEIIYSWk6AshhBBWQoq+EEIIYSWk6AshhBBWosnG3m+p\njh8/zqJFi1izZg1hYWG11n/55Zd8+OGHqNVqpkyZ0qj5A5paVVUVUVFRpKeno9FoeP3112nbtm2N\n53Tv3p2QkBDT4w8++KDWjIbNac2aNSQkJKBSqVi+fLlp6mSAI0eO8NZbb6HRaBgyZAiRkZEWy3m3\nhjIPHz4cHx8f0z6Njo7G29vbUlFruXz5MvPnz2fmzJlERETUWNdS97e5NPS5NbV169Zx6tQp9Ho9\nzz33HEFBQSxduhSDwYBOp+PNN9/E1ta22c8r5eXlPP3008yfP58BAwZYPNOXX37Jli1b0Gq1PP/8\n8wQEBFg0U0lJCcuWLaOgoICqqioiIyPR6XS8+uqrAAQEBPDaa68BsGXLFmJiYlCpVCxYsIChQ4ea\nPc+9x29GRkaj909j6kMNihVJTU1V5s6dq8yfP1/57rvvaq0vKSlRRo8erRQWFiplZWXKuHHjlLy8\nPAskrWnPnj3Kq6++qiiKohw6dEhZtGhRref07du3uWPV69ixY8qcOXMURVGUpKQkZcqUKTXWP/nk\nk0p6erpiMBiUadOmKT/99JMlYtZwv8xhYWFKcXGxJaLdV0lJiRIREaGsWLFC2b59e631LXF/m8v9\nPremFBcXp/z2t79VFEVRbt26pQwdOlSJiopS9u3bpyiKoqxfv175+9//bpHzyltvvaVMnjxZ+eyz\nzyye6datW8ro0aOVoqIiJSsrS1mxYoXFM23fvl2Jjo5WFEVRMjMzlTFjxigRERFKQkKCoiiKsmTJ\nEiU2NlZJS0tTJk2apFRUVCi5ubnKmDFjFL1eb9YsdR2/D7J/GlMf7mZVzfs6nY5Nmzbh4lL3UIUJ\nCQkEBQXh4uKCvb09ISEhxMfHN3PK2uLi4hg1ahQAAwcObBGZGhIXF8fIkSMB8Pf3p6CggOLiYgCu\nXbuGm5sbrVu3Rq1WM3ToUOLi4iwZF2g4c0tna2vLe++9V2t2Smi5+9tcLPm59enThz/+8Y8AuLq6\nUlZWxrFjxxgxYgQAYWFhxMXFNft55cqVKyQlJTFs2DAAi2eKi4tjwIABODs74+XlxR/+8AeLZ/Lw\n8DDN7lpYWIi7uzs3btwwtRLdznTs2DEGDx6Mra0tnp6e+Pr6kpSUZNYsdR2/D7J/HrQ+WFXRd3Bw\naLDJOycnB09PT9NjT09PsrOzmyNag+7OpVarUalUVFZW1nhOZWUlL7zwAlOnTuX999+3REyTnJwc\nPDw8TI/v3o/Z2dktdh/Xl/m2lStXMm3aNKKjo1Fa0ECWWq0We3v7Ote11P1tLo353JqKRqPB0dER\ngN27dzNkyBDKyspM0363atWK7OzsZj+vvPHGG0RFRZkeWzrT9evXKS8vZ+7cuUyfPp24uDiLZxo3\nbhzp6emMGjWKiIgIli5diqurq2l9c2aq6/h9kP3TmPpQ4+eZNX0LsmvXLnbt2lVj2cKFC2tN29sQ\nS5zY68qdkJBQ43FduZYuXcqECRNQqVRERETQu3dvgoKCmjRrY7WkAtlY92Z+/vnnGTx4MG5ubkRG\nRrJ//37Gjh1roXSiPpb4Xfv222/ZvXs327ZtY/To0ffN0pQZv/jiC3r16lXvd7qWyASQn5/Ppk2b\nSE9PZ8aMGTV+niUy7d27lzZt2rB161YuXrxIZGRkjRZgS+2nB/mZ/2nGR7boh4eHP3AnEC8vL3Jy\nckyPb968Sa9evcwdrUF15Y6KiiI7O5vAwECqqqpQFMX0V+Bt06ZNM/2/f//+XL582WJFv679qNPp\n6lyXlZVVZ7N0c2soM8DEiRNN/x8yZAiXL19+KIp+S93f5nK/z62pHTp0iHfeeYctW7bg4uKCo6Mj\n5eXl2Nvbm/Z1c55XYmNjuXbtGrGxsWRmZmJra2vxTK1atSI4OBitVku7du1wcnJCo9FYNFN8fDyD\nBg0CIDAwkIqKCvR6vWn93ZmuXr1aa3lTe5DPzMvL67714W5W1bx/Pz179uTs2bMUFhZSUlJCfHw8\nvXv3tnQsQkNDiYmJAeDgwYP069evxvrk5GReeOEFFEVBr9cTHx9Ply5dLBEVqM67f/9+ABITE/Hy\n8sLZ2RkAPz8/iouLuX79Onq9noMHDxIaGmqxrLc1lLmoqIhZs2aZmsxOnDhh0f37IFrq/jaXhj63\nplZUVMS6det49913cXd3B6q/U72d58CBAwwePLhZzytvv/02n332GZ9++inh4eHMnz/f4pkGDRrE\n0aNHMRqN5OXlUVpaavFM7du3N7Wg3rhxAycnJ/z9/Tl58mSNTP379yc2NpbKykqysrK4efMmnTt3\nbpJMd3uQ/XO/+nAvq5plLzY2lq1bt5KcnIynpyc6nY5t27axefNm+vTpQ3BwMDExMWzdutXUTD5h\nwgRLx8ZgMLBixQpSUlKwtbVl7dq1tG7dukbuN998k6NHj6JWqxk+fDjz5s2zaObo6GhOnjyJSqVi\n5cqVnD9/HhcXF0aNGsWJEyeIjo4GYPTo0cyaNcuiWW9rKPOHH37IF198gZ2dHd26dePll19GpVJZ\nOjIA586d44033uDGjRtotVq8vb0ZPnw4fn5+LXp/m8u9n1tgYGCz/NydO3eyceNGOnbsaFq2du1a\nVqxYQUVFBW3atOH111/HxsbGIueVjRs34uvry6BBg1i2bJlFM+3YsYPdu3cDMG/ePIKCgiyaqaSk\nhOXLl5Obm4ter2fRokXodDpeeeUVjEYjPXv25KWXXgJg+/btfPXVV6hUKhYvXsyAAQPMmqWu4zc6\nOpqoqKhG7Z/66kN9rKroCyGEENZMmveFEEIIKyFFXwghhLASUvSFEEIIKyFFXwghhLASUvSFEEII\nKyFFX/wsAQEBNQa1MIf4+HiuXbtm1m0KIYSQoi9aoD179kjRF0KIJvDIDsMrmtexY8fYvHkzPj4+\nJCUlodVq2bJlC7m5ucycOZMhQ4Zw8eJFADZs2IC3tzcBAQEkJiai1WrZs2cPR44cYcyYMcTExHDm\nzBleeuklsw+EIYQQ1kyu9IXZnD59miVLlrBz507UajWHDx8Gqqd3nTx5Mh9//DF9+/Zl27Zt9W5j\n1KhRdO3alaioKCn4QghhZlL0hdn4+/vTqlUrAHx9fU3zVbu7u9OjRw8AQkJCzD4ftRBCiMaRoi/M\nRqPR1Ln83mk06xqzvqqqqslyCSGEqCZFXzS5goICzp8/D1T3zA8ICADA2dmZjIwMoLpPwG0qlUr+\nCBBCiCYgRV80OW9vb/bs2cOMGTOIj49n5syZAMyZM4dZs2Yxe/ZsfH19Tc8PDQ1l5cqVHDhwwEKJ\nhRDi0SSz7Ikmdf36daZPn84PP/xg6ShCCGH15EpfCCGEsBJypS+EEEJYCbnSF0IIIayEFH0hhBDC\nSkjRF0IIIayEFH0hhBDCSkjRF0IIIayEFH0hhBDCSvw/zJDsvtcLOsEAAAAASUVORK5CYII=\n",
            "text/plain": [
              "<matplotlib.figure.Figure at 0x7f7ebeabcc10>"
            ]
          },
          "metadata": {
            "tags": []
          }
        }
      ]
    },
    {
      "metadata": {
        "id": "KzH8HmQZs2ko",
        "colab_type": "code",
        "colab": {}
      },
      "cell_type": "code",
      "source": [
        ""
      ],
      "execution_count": 0,
      "outputs": []
    }
  ]
}
